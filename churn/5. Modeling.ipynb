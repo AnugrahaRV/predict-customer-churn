{
 "cells": [
  {
   "cell_type": "markdown",
   "metadata": {},
   "source": [
    "# Introduction: Modeling\n",
    "\n",
    "The last step in the machine learning pipeline is also where the value is derived. After we have developed the labels, each with its own cutoff time, we need to train a model to map from the features to predict the label. \n",
    "\n",
    "In this notebook, we will use the feature matrices and label times to train and test a machine learning model. We will work through a single prediction problem, predicting on the first of each month which customers will churn during the month. \n",
    "\n",
    "## Approach\n",
    "\n",
    "Our basic machine learning approach is:\n",
    "\n",
    "1. Prepare data for machine learning\n",
    "    * Fill in missing values with median imputation\n",
    "    * Encoding of categorical values\n",
    "2. Split data into training and hold out testing based on time \n",
    "3. Evaluate a baseline logistic regression model\n",
    "    * Also try a naive baseline for comparison\n",
    "4. Try a non-linear more capable classifier, the Random Forest \n",
    "    * Use mostly default hyperparameters\n",
    "    * Evaluate on hold-out testing data\n",
    "5. Inspect predictions to determine if business need has been met\n",
    "    * Precision recall curve used to tune threshold\n",
    "    * Confusion matrix to assess predictions\n",
    "6. Optimizer model automatically using an auto-ml library\n",
    "    * Using TPOT although many options exist\n",
    "    \n",
    "The final outcome is an optimized model that solves the business problem of predicting customer churn with given parameters. The model can be deployed - used to make predictions on new data"
   ]
  },
  {
   "cell_type": "code",
   "execution_count": 4,
   "metadata": {
    "ExecuteTime": {
     "end_time": "2018-10-31T01:47:04.454990Z",
     "start_time": "2018-10-31T01:47:04.452551Z"
    }
   },
   "outputs": [],
   "source": [
    "import pandas as pd\n",
    "import numpy as np\n",
    "\n",
    "PARTITION_DIR = 's3://customer-churn-spark'"
   ]
  },
  {
   "cell_type": "code",
   "execution_count": 5,
   "metadata": {
    "ExecuteTime": {
     "end_time": "2018-10-31T01:47:07.261085Z",
     "start_time": "2018-10-31T01:47:05.279546Z"
    }
   },
   "outputs": [
    {
     "data": {
      "text/html": [
       "<div>\n",
       "<style scoped>\n",
       "    .dataframe tbody tr th:only-of-type {\n",
       "        vertical-align: middle;\n",
       "    }\n",
       "\n",
       "    .dataframe tbody tr th {\n",
       "        vertical-align: top;\n",
       "    }\n",
       "\n",
       "    .dataframe thead th {\n",
       "        text-align: right;\n",
       "    }\n",
       "</style>\n",
       "<table border=\"1\" class=\"dataframe\">\n",
       "  <thead>\n",
       "    <tr style=\"text-align: right;\">\n",
       "      <th></th>\n",
       "      <th>msno</th>\n",
       "      <th>time</th>\n",
       "      <th>city</th>\n",
       "      <th>bd</th>\n",
       "      <th>registered_via</th>\n",
       "      <th>gender</th>\n",
       "      <th>SUM(transactions.payment_plan_days)</th>\n",
       "      <th>SUM(transactions.plan_list_price)</th>\n",
       "      <th>SUM(transactions.actual_amount_paid)</th>\n",
       "      <th>SUM(transactions.price_difference)</th>\n",
       "      <th>...</th>\n",
       "      <th>WEEKEND(LAST(logs.date))</th>\n",
       "      <th>DAY(LAST(transactions.transaction_date))</th>\n",
       "      <th>DAY(LAST(transactions.membership_expire_date))</th>\n",
       "      <th>DAY(LAST(logs.date))</th>\n",
       "      <th>MONTH(LAST(transactions.transaction_date))</th>\n",
       "      <th>MONTH(LAST(transactions.membership_expire_date))</th>\n",
       "      <th>MONTH(LAST(logs.date))</th>\n",
       "      <th>label</th>\n",
       "      <th>days_to_churn</th>\n",
       "      <th>churn_date</th>\n",
       "    </tr>\n",
       "  </thead>\n",
       "  <tbody>\n",
       "    <tr>\n",
       "      <th>0</th>\n",
       "      <td>+BiYvEwQ9IhCtdjEfbhHHholtl4//83Wc5S2paxb6EY=</td>\n",
       "      <td>2015-01-01</td>\n",
       "      <td>13.0</td>\n",
       "      <td>20.0</td>\n",
       "      <td>3.0</td>\n",
       "      <td>female</td>\n",
       "      <td>0.0</td>\n",
       "      <td>0.0</td>\n",
       "      <td>0.0</td>\n",
       "      <td>0.0</td>\n",
       "      <td>...</td>\n",
       "      <td>0.0</td>\n",
       "      <td>NaN</td>\n",
       "      <td>NaN</td>\n",
       "      <td>1.0</td>\n",
       "      <td>NaN</td>\n",
       "      <td>NaN</td>\n",
       "      <td>1.0</td>\n",
       "      <td>NaN</td>\n",
       "      <td>473.0</td>\n",
       "      <td>NaN</td>\n",
       "    </tr>\n",
       "    <tr>\n",
       "      <th>1</th>\n",
       "      <td>+DW0lnNoglViYD6N8cXkup7OM9VAW9Jn0vgF1IrAZ3A=</td>\n",
       "      <td>2015-01-01</td>\n",
       "      <td>13.0</td>\n",
       "      <td>35.0</td>\n",
       "      <td>7.0</td>\n",
       "      <td>female</td>\n",
       "      <td>0.0</td>\n",
       "      <td>0.0</td>\n",
       "      <td>0.0</td>\n",
       "      <td>0.0</td>\n",
       "      <td>...</td>\n",
       "      <td>0.0</td>\n",
       "      <td>NaN</td>\n",
       "      <td>NaN</td>\n",
       "      <td>1.0</td>\n",
       "      <td>NaN</td>\n",
       "      <td>NaN</td>\n",
       "      <td>1.0</td>\n",
       "      <td>NaN</td>\n",
       "      <td>192.0</td>\n",
       "      <td>NaN</td>\n",
       "    </tr>\n",
       "    <tr>\n",
       "      <th>2</th>\n",
       "      <td>+GOa0adWCKEajCWyogWtJm4cs6gZbY7+smf0we2LcTY=</td>\n",
       "      <td>2015-01-01</td>\n",
       "      <td>14.0</td>\n",
       "      <td>20.0</td>\n",
       "      <td>9.0</td>\n",
       "      <td>male</td>\n",
       "      <td>0.0</td>\n",
       "      <td>0.0</td>\n",
       "      <td>0.0</td>\n",
       "      <td>0.0</td>\n",
       "      <td>...</td>\n",
       "      <td>0.0</td>\n",
       "      <td>NaN</td>\n",
       "      <td>NaN</td>\n",
       "      <td>1.0</td>\n",
       "      <td>NaN</td>\n",
       "      <td>NaN</td>\n",
       "      <td>1.0</td>\n",
       "      <td>NaN</td>\n",
       "      <td>173.0</td>\n",
       "      <td>NaN</td>\n",
       "    </tr>\n",
       "    <tr>\n",
       "      <th>3</th>\n",
       "      <td>+ZjFuS1/MwCSbGRCJC09YoPxqvvs6yPYFaH29E97IiQ=</td>\n",
       "      <td>2015-01-01</td>\n",
       "      <td>6.0</td>\n",
       "      <td>27.0</td>\n",
       "      <td>9.0</td>\n",
       "      <td>female</td>\n",
       "      <td>0.0</td>\n",
       "      <td>0.0</td>\n",
       "      <td>0.0</td>\n",
       "      <td>0.0</td>\n",
       "      <td>...</td>\n",
       "      <td>0.0</td>\n",
       "      <td>NaN</td>\n",
       "      <td>NaN</td>\n",
       "      <td>1.0</td>\n",
       "      <td>NaN</td>\n",
       "      <td>NaN</td>\n",
       "      <td>1.0</td>\n",
       "      <td>0.0</td>\n",
       "      <td>NaN</td>\n",
       "      <td>NaN</td>\n",
       "    </tr>\n",
       "    <tr>\n",
       "      <th>4</th>\n",
       "      <td>+aSvtF0JEPGbLmhUDVz/TwlIeCFwVLT+2NcaqCPyRjk=</td>\n",
       "      <td>2015-01-01</td>\n",
       "      <td>13.0</td>\n",
       "      <td>21.0</td>\n",
       "      <td>3.0</td>\n",
       "      <td>female</td>\n",
       "      <td>0.0</td>\n",
       "      <td>0.0</td>\n",
       "      <td>0.0</td>\n",
       "      <td>0.0</td>\n",
       "      <td>...</td>\n",
       "      <td>0.0</td>\n",
       "      <td>NaN</td>\n",
       "      <td>NaN</td>\n",
       "      <td>NaN</td>\n",
       "      <td>NaN</td>\n",
       "      <td>NaN</td>\n",
       "      <td>NaN</td>\n",
       "      <td>0.0</td>\n",
       "      <td>NaN</td>\n",
       "      <td>NaN</td>\n",
       "    </tr>\n",
       "  </tbody>\n",
       "</table>\n",
       "<p>5 rows × 253 columns</p>\n",
       "</div>"
      ],
      "text/plain": [
       "                                           msno        time  city    bd  \\\n",
       "0  +BiYvEwQ9IhCtdjEfbhHHholtl4//83Wc5S2paxb6EY=  2015-01-01  13.0  20.0   \n",
       "1  +DW0lnNoglViYD6N8cXkup7OM9VAW9Jn0vgF1IrAZ3A=  2015-01-01  13.0  35.0   \n",
       "2  +GOa0adWCKEajCWyogWtJm4cs6gZbY7+smf0we2LcTY=  2015-01-01  14.0  20.0   \n",
       "3  +ZjFuS1/MwCSbGRCJC09YoPxqvvs6yPYFaH29E97IiQ=  2015-01-01   6.0  27.0   \n",
       "4  +aSvtF0JEPGbLmhUDVz/TwlIeCFwVLT+2NcaqCPyRjk=  2015-01-01  13.0  21.0   \n",
       "\n",
       "   registered_via  gender  SUM(transactions.payment_plan_days)  \\\n",
       "0             3.0  female                                  0.0   \n",
       "1             7.0  female                                  0.0   \n",
       "2             9.0    male                                  0.0   \n",
       "3             9.0  female                                  0.0   \n",
       "4             3.0  female                                  0.0   \n",
       "\n",
       "   SUM(transactions.plan_list_price)  SUM(transactions.actual_amount_paid)  \\\n",
       "0                                0.0                                   0.0   \n",
       "1                                0.0                                   0.0   \n",
       "2                                0.0                                   0.0   \n",
       "3                                0.0                                   0.0   \n",
       "4                                0.0                                   0.0   \n",
       "\n",
       "   SUM(transactions.price_difference)     ...      WEEKEND(LAST(logs.date))  \\\n",
       "0                                 0.0     ...                           0.0   \n",
       "1                                 0.0     ...                           0.0   \n",
       "2                                 0.0     ...                           0.0   \n",
       "3                                 0.0     ...                           0.0   \n",
       "4                                 0.0     ...                           0.0   \n",
       "\n",
       "   DAY(LAST(transactions.transaction_date))  \\\n",
       "0                                       NaN   \n",
       "1                                       NaN   \n",
       "2                                       NaN   \n",
       "3                                       NaN   \n",
       "4                                       NaN   \n",
       "\n",
       "   DAY(LAST(transactions.membership_expire_date))  DAY(LAST(logs.date))  \\\n",
       "0                                             NaN                   1.0   \n",
       "1                                             NaN                   1.0   \n",
       "2                                             NaN                   1.0   \n",
       "3                                             NaN                   1.0   \n",
       "4                                             NaN                   NaN   \n",
       "\n",
       "  MONTH(LAST(transactions.transaction_date))  \\\n",
       "0                                        NaN   \n",
       "1                                        NaN   \n",
       "2                                        NaN   \n",
       "3                                        NaN   \n",
       "4                                        NaN   \n",
       "\n",
       "  MONTH(LAST(transactions.membership_expire_date))  MONTH(LAST(logs.date))  \\\n",
       "0                                              NaN                     1.0   \n",
       "1                                              NaN                     1.0   \n",
       "2                                              NaN                     1.0   \n",
       "3                                              NaN                     1.0   \n",
       "4                                              NaN                     NaN   \n",
       "\n",
       "   label  days_to_churn  churn_date  \n",
       "0    NaN          473.0         NaN  \n",
       "1    NaN          192.0         NaN  \n",
       "2    NaN          173.0         NaN  \n",
       "3    0.0            NaN         NaN  \n",
       "4    0.0            NaN         NaN  \n",
       "\n",
       "[5 rows x 253 columns]"
      ]
     },
     "execution_count": 5,
     "metadata": {},
     "output_type": "execute_result"
    }
   ],
   "source": [
    "p0_fm = pd.read_csv(f'{PARTITION_DIR}/p70/MS-31_feature_matrix.csv')\n",
    "p0_fm.head()"
   ]
  },
  {
   "cell_type": "markdown",
   "metadata": {},
   "source": [
    "### Retrieve Data\n",
    "\n",
    "All of the data is stored in AWS S3. We'll retrieve 50 partitions of feature matrices."
   ]
  },
  {
   "cell_type": "code",
   "execution_count": 6,
   "metadata": {
    "ExecuteTime": {
     "end_time": "2018-10-31T01:47:07.329913Z",
     "start_time": "2018-10-31T01:47:07.326977Z"
    }
   },
   "outputs": [],
   "source": [
    "def retrieve_data(partition_num, label_type='MS-31'):\n",
    "    fm = pd.read_csv(f'{PARTITION_DIR}/p{partition_num}/{label_type}_feature_matrix.csv', low_memory=False).\\\n",
    "            drop(columns = ['label', 'days_to_churn', 'churn_date']).rename(columns = {'time': 'cutoff_time'})\n",
    "    labels = pd.read_csv(f'{PARTITION_DIR}/p{partition_num}/{label_type}_labels.csv', low_memory=False)\n",
    "    feature_matrix = fm.merge(labels, on = ['msno', 'cutoff_time'], how = 'inner')\n",
    "    return feature_matrix"
   ]
  },
  {
   "cell_type": "markdown",
   "metadata": {},
   "source": [
    "The next cell retrieves a number of feature matrices for training and for testing. This is done in parallel using multiprocessing."
   ]
  },
  {
   "cell_type": "code",
   "execution_count": 7,
   "metadata": {
    "ExecuteTime": {
     "end_time": "2018-10-31T01:47:52.951690Z",
     "start_time": "2018-10-31T01:47:18.094573Z"
    }
   },
   "outputs": [
    {
     "name": "stdout",
     "output_type": "stream",
     "text": [
      "98.0% complete.\r"
     ]
    },
    {
     "data": {
      "text/plain": [
       "(720855, 253)"
      ]
     },
     "execution_count": 7,
     "metadata": {},
     "output_type": "execute_result"
    }
   ],
   "source": [
    "import random\n",
    "random.seed(50)\n",
    "\n",
    "from multiprocessing import Pool\n",
    "pool = Pool(6)\n",
    "\n",
    "# Set number of train and testing feature matrices\n",
    "fms_to_get = 50\n",
    "\n",
    "# Choose random sample of partitions\n",
    "ps = random.sample(list(range(900)), fms_to_get)\n",
    "\n",
    "# Retrieve feature matrices from S3\n",
    "fms = []\n",
    "for i, r in enumerate(pool.imap_unordered(retrieve_data, ps)):\n",
    "    print(f'{round(100 * (i / fms_to_get), 2)}% complete.', end='\\r')\n",
    "    if r.shape[1] == 253:\n",
    "        fms.append(r)\n",
    "pool.close()\n",
    "pool.join()\n",
    "\n",
    "# Join together and drop rows with unknown label\n",
    "feature_matrix = pd.concat(fms)\n",
    "feature_matrix = feature_matrix[~feature_matrix['label'].isna()]\n",
    "\n",
    "# Drop rows with no previous transactions\n",
    "feature_matrix = feature_matrix[~feature_matrix['TIME_SINCE_LAST(transactions.transaction_date)'].isna()]\n",
    "\n",
    "# Remove outliers\n",
    "feature_matrix = feature_matrix[feature_matrix['TOTAL_PREVIOUS_MONTH(transactions.planned_daily_price, transaction_date)'] < 10]\n",
    "feature_matrix.shape"
   ]
  },
  {
   "cell_type": "markdown",
   "metadata": {},
   "source": [
    "The cell below converts the boolean types to integers for use in a machine learning model. Most of the boolean indicate whether or not all the values for customer were True (`ALL` primitive) or if the date was a weekend (`WEEKEND` primitive)."
   ]
  },
  {
   "cell_type": "code",
   "execution_count": 8,
   "metadata": {
    "ExecuteTime": {
     "end_time": "2018-10-31T01:48:10.184571Z",
     "start_time": "2018-10-31T01:47:55.653213Z"
    }
   },
   "outputs": [],
   "source": [
    "feature_matrix = feature_matrix.replace({'False': 0, 'True': 1})"
   ]
  },
  {
   "cell_type": "code",
   "execution_count": 9,
   "metadata": {
    "ExecuteTime": {
     "end_time": "2018-10-31T01:48:16.826456Z",
     "start_time": "2018-10-31T01:48:12.886237Z"
    }
   },
   "outputs": [
    {
     "data": {
      "text/html": [
       "<div>\n",
       "<style scoped>\n",
       "    .dataframe tbody tr th:only-of-type {\n",
       "        vertical-align: middle;\n",
       "    }\n",
       "\n",
       "    .dataframe tbody tr th {\n",
       "        vertical-align: top;\n",
       "    }\n",
       "\n",
       "    .dataframe thead th {\n",
       "        text-align: right;\n",
       "    }\n",
       "</style>\n",
       "<table border=\"1\" class=\"dataframe\">\n",
       "  <thead>\n",
       "    <tr style=\"text-align: right;\">\n",
       "      <th></th>\n",
       "      <th>ALL(transactions.is_auto_renew)</th>\n",
       "      <th>ALL(transactions.is_cancel)</th>\n",
       "      <th>WEEKEND(registration_init_time)</th>\n",
       "      <th>ALL(transactions.is_auto_renew WHERE is_cancel = 0)</th>\n",
       "      <th>ALL(transactions.is_auto_renew WHERE is_cancel = 1)</th>\n",
       "      <th>ALL(transactions.is_cancel WHERE is_auto_renew = 0)</th>\n",
       "      <th>ALL(transactions.is_cancel WHERE is_auto_renew = 1)</th>\n",
       "      <th>ALL(transactions.WEEKEND(transaction_date))</th>\n",
       "      <th>ALL(transactions.WEEKEND(transaction_date) WHERE is_auto_renew = 0)</th>\n",
       "      <th>ALL(transactions.WEEKEND(transaction_date) WHERE is_cancel = 0)</th>\n",
       "      <th>...</th>\n",
       "      <th>ALL(transactions.WEEKEND(membership_expire_date) WHERE is_cancel = 0)</th>\n",
       "      <th>ALL(transactions.WEEKEND(membership_expire_date) WHERE is_cancel = 1)</th>\n",
       "      <th>ALL(transactions.WEEKEND(membership_expire_date) WHERE is_auto_renew = 1)</th>\n",
       "      <th>LAST(transactions.WEEKEND(transaction_date))</th>\n",
       "      <th>LAST(transactions.WEEKEND(membership_expire_date))</th>\n",
       "      <th>ALL(logs.WEEKEND(date))</th>\n",
       "      <th>LAST(logs.WEEKEND(date))</th>\n",
       "      <th>WEEKEND(LAST(transactions.transaction_date))</th>\n",
       "      <th>WEEKEND(LAST(transactions.membership_expire_date))</th>\n",
       "      <th>WEEKEND(LAST(logs.date))</th>\n",
       "    </tr>\n",
       "  </thead>\n",
       "  <tbody>\n",
       "    <tr>\n",
       "      <th>162</th>\n",
       "      <td>1.0</td>\n",
       "      <td>0.0</td>\n",
       "      <td>0.0</td>\n",
       "      <td>1.0</td>\n",
       "      <td>NaN</td>\n",
       "      <td>NaN</td>\n",
       "      <td>0.0</td>\n",
       "      <td>0.0</td>\n",
       "      <td>NaN</td>\n",
       "      <td>0.0</td>\n",
       "      <td>...</td>\n",
       "      <td>1.0</td>\n",
       "      <td>NaN</td>\n",
       "      <td>1.0</td>\n",
       "      <td>0.0</td>\n",
       "      <td>1.0</td>\n",
       "      <td>NaN</td>\n",
       "      <td>NaN</td>\n",
       "      <td>0.0</td>\n",
       "      <td>1.0</td>\n",
       "      <td>0.0</td>\n",
       "    </tr>\n",
       "    <tr>\n",
       "      <th>216</th>\n",
       "      <td>1.0</td>\n",
       "      <td>0.0</td>\n",
       "      <td>0.0</td>\n",
       "      <td>1.0</td>\n",
       "      <td>NaN</td>\n",
       "      <td>NaN</td>\n",
       "      <td>0.0</td>\n",
       "      <td>0.0</td>\n",
       "      <td>NaN</td>\n",
       "      <td>0.0</td>\n",
       "      <td>...</td>\n",
       "      <td>1.0</td>\n",
       "      <td>NaN</td>\n",
       "      <td>1.0</td>\n",
       "      <td>0.0</td>\n",
       "      <td>1.0</td>\n",
       "      <td>NaN</td>\n",
       "      <td>NaN</td>\n",
       "      <td>0.0</td>\n",
       "      <td>1.0</td>\n",
       "      <td>0.0</td>\n",
       "    </tr>\n",
       "    <tr>\n",
       "      <th>233</th>\n",
       "      <td>1.0</td>\n",
       "      <td>0.0</td>\n",
       "      <td>1.0</td>\n",
       "      <td>1.0</td>\n",
       "      <td>NaN</td>\n",
       "      <td>NaN</td>\n",
       "      <td>0.0</td>\n",
       "      <td>0.0</td>\n",
       "      <td>NaN</td>\n",
       "      <td>0.0</td>\n",
       "      <td>...</td>\n",
       "      <td>1.0</td>\n",
       "      <td>NaN</td>\n",
       "      <td>1.0</td>\n",
       "      <td>0.0</td>\n",
       "      <td>1.0</td>\n",
       "      <td>NaN</td>\n",
       "      <td>NaN</td>\n",
       "      <td>0.0</td>\n",
       "      <td>1.0</td>\n",
       "      <td>0.0</td>\n",
       "    </tr>\n",
       "    <tr>\n",
       "      <th>270</th>\n",
       "      <td>0.0</td>\n",
       "      <td>0.0</td>\n",
       "      <td>0.0</td>\n",
       "      <td>0.0</td>\n",
       "      <td>NaN</td>\n",
       "      <td>0.0</td>\n",
       "      <td>NaN</td>\n",
       "      <td>0.0</td>\n",
       "      <td>0.0</td>\n",
       "      <td>0.0</td>\n",
       "      <td>...</td>\n",
       "      <td>1.0</td>\n",
       "      <td>NaN</td>\n",
       "      <td>NaN</td>\n",
       "      <td>0.0</td>\n",
       "      <td>1.0</td>\n",
       "      <td>0.0</td>\n",
       "      <td>0.0</td>\n",
       "      <td>0.0</td>\n",
       "      <td>1.0</td>\n",
       "      <td>0.0</td>\n",
       "    </tr>\n",
       "    <tr>\n",
       "      <th>299</th>\n",
       "      <td>1.0</td>\n",
       "      <td>0.0</td>\n",
       "      <td>1.0</td>\n",
       "      <td>1.0</td>\n",
       "      <td>NaN</td>\n",
       "      <td>NaN</td>\n",
       "      <td>0.0</td>\n",
       "      <td>0.0</td>\n",
       "      <td>NaN</td>\n",
       "      <td>0.0</td>\n",
       "      <td>...</td>\n",
       "      <td>0.0</td>\n",
       "      <td>NaN</td>\n",
       "      <td>0.0</td>\n",
       "      <td>0.0</td>\n",
       "      <td>0.0</td>\n",
       "      <td>0.0</td>\n",
       "      <td>0.0</td>\n",
       "      <td>0.0</td>\n",
       "      <td>0.0</td>\n",
       "      <td>0.0</td>\n",
       "    </tr>\n",
       "  </tbody>\n",
       "</table>\n",
       "<p>5 rows × 24 columns</p>\n",
       "</div>"
      ],
      "text/plain": [
       "     ALL(transactions.is_auto_renew)  ALL(transactions.is_cancel)  \\\n",
       "162                              1.0                          0.0   \n",
       "216                              1.0                          0.0   \n",
       "233                              1.0                          0.0   \n",
       "270                              0.0                          0.0   \n",
       "299                              1.0                          0.0   \n",
       "\n",
       "     WEEKEND(registration_init_time)  \\\n",
       "162                              0.0   \n",
       "216                              0.0   \n",
       "233                              1.0   \n",
       "270                              0.0   \n",
       "299                              1.0   \n",
       "\n",
       "     ALL(transactions.is_auto_renew WHERE is_cancel = 0)  \\\n",
       "162                                                1.0     \n",
       "216                                                1.0     \n",
       "233                                                1.0     \n",
       "270                                                0.0     \n",
       "299                                                1.0     \n",
       "\n",
       "     ALL(transactions.is_auto_renew WHERE is_cancel = 1)  \\\n",
       "162                                                NaN     \n",
       "216                                                NaN     \n",
       "233                                                NaN     \n",
       "270                                                NaN     \n",
       "299                                                NaN     \n",
       "\n",
       "     ALL(transactions.is_cancel WHERE is_auto_renew = 0)  \\\n",
       "162                                                NaN     \n",
       "216                                                NaN     \n",
       "233                                                NaN     \n",
       "270                                                0.0     \n",
       "299                                                NaN     \n",
       "\n",
       "     ALL(transactions.is_cancel WHERE is_auto_renew = 1)  \\\n",
       "162                                                0.0     \n",
       "216                                                0.0     \n",
       "233                                                0.0     \n",
       "270                                                NaN     \n",
       "299                                                0.0     \n",
       "\n",
       "     ALL(transactions.WEEKEND(transaction_date))  \\\n",
       "162                                          0.0   \n",
       "216                                          0.0   \n",
       "233                                          0.0   \n",
       "270                                          0.0   \n",
       "299                                          0.0   \n",
       "\n",
       "     ALL(transactions.WEEKEND(transaction_date) WHERE is_auto_renew = 0)  \\\n",
       "162                                                NaN                     \n",
       "216                                                NaN                     \n",
       "233                                                NaN                     \n",
       "270                                                0.0                     \n",
       "299                                                NaN                     \n",
       "\n",
       "     ALL(transactions.WEEKEND(transaction_date) WHERE is_cancel = 0)  \\\n",
       "162                                                0.0                 \n",
       "216                                                0.0                 \n",
       "233                                                0.0                 \n",
       "270                                                0.0                 \n",
       "299                                                0.0                 \n",
       "\n",
       "               ...             \\\n",
       "162            ...              \n",
       "216            ...              \n",
       "233            ...              \n",
       "270            ...              \n",
       "299            ...              \n",
       "\n",
       "     ALL(transactions.WEEKEND(membership_expire_date) WHERE is_cancel = 0)  \\\n",
       "162                                                1.0                       \n",
       "216                                                1.0                       \n",
       "233                                                1.0                       \n",
       "270                                                1.0                       \n",
       "299                                                0.0                       \n",
       "\n",
       "     ALL(transactions.WEEKEND(membership_expire_date) WHERE is_cancel = 1)  \\\n",
       "162                                                NaN                       \n",
       "216                                                NaN                       \n",
       "233                                                NaN                       \n",
       "270                                                NaN                       \n",
       "299                                                NaN                       \n",
       "\n",
       "     ALL(transactions.WEEKEND(membership_expire_date) WHERE is_auto_renew = 1)  \\\n",
       "162                                                1.0                           \n",
       "216                                                1.0                           \n",
       "233                                                1.0                           \n",
       "270                                                NaN                           \n",
       "299                                                0.0                           \n",
       "\n",
       "     LAST(transactions.WEEKEND(transaction_date))  \\\n",
       "162                                           0.0   \n",
       "216                                           0.0   \n",
       "233                                           0.0   \n",
       "270                                           0.0   \n",
       "299                                           0.0   \n",
       "\n",
       "     LAST(transactions.WEEKEND(membership_expire_date))  \\\n",
       "162                                                1.0    \n",
       "216                                                1.0    \n",
       "233                                                1.0    \n",
       "270                                                1.0    \n",
       "299                                                0.0    \n",
       "\n",
       "     ALL(logs.WEEKEND(date))  LAST(logs.WEEKEND(date))  \\\n",
       "162                      NaN                       NaN   \n",
       "216                      NaN                       NaN   \n",
       "233                      NaN                       NaN   \n",
       "270                      0.0                       0.0   \n",
       "299                      0.0                       0.0   \n",
       "\n",
       "     WEEKEND(LAST(transactions.transaction_date))  \\\n",
       "162                                           0.0   \n",
       "216                                           0.0   \n",
       "233                                           0.0   \n",
       "270                                           0.0   \n",
       "299                                           0.0   \n",
       "\n",
       "     WEEKEND(LAST(transactions.membership_expire_date))  \\\n",
       "162                                                1.0    \n",
       "216                                                1.0    \n",
       "233                                                1.0    \n",
       "270                                                1.0    \n",
       "299                                                0.0    \n",
       "\n",
       "     WEEKEND(LAST(logs.date))  \n",
       "162                       0.0  \n",
       "216                       0.0  \n",
       "233                       0.0  \n",
       "270                       0.0  \n",
       "299                       0.0  \n",
       "\n",
       "[5 rows x 24 columns]"
      ]
     },
     "execution_count": 9,
     "metadata": {},
     "output_type": "execute_result"
    }
   ],
   "source": [
    "feature_matrix_original = feature_matrix.copy()\n",
    "feature_matrix.drop(columns = [c for c in ['churn', 'days_to_next_churn', \n",
    "                                           'churn_date'] if c in feature_matrix],\n",
    "                    inplace = True)\n",
    "\n",
    "bool_cols = [c for c in feature_matrix if 'ALL' in c or ('WEEKEND' in c and 'PERCENT_TRUE' not in c)]\n",
    "\n",
    "for c in bool_cols:\n",
    "    feature_matrix[c] = feature_matrix[c].astype(float)\n",
    "feature_matrix[bool_cols].head()"
   ]
  },
  {
   "cell_type": "code",
   "execution_count": null,
   "metadata": {
    "ExecuteTime": {
     "start_time": "2018-10-31T01:48:24.484Z"
    }
   },
   "outputs": [],
   "source": [
    "feature_matrix.drop_duplicates().shape()"
   ]
  },
  {
   "cell_type": "markdown",
   "metadata": {},
   "source": [
    "## Data Cleaning\n",
    "\n",
    "We'll do a few basic data cleaning steps:\n",
    "\n",
    "* Remove columns with many missing values\n",
    "* Remove columns with a single unique value\n",
    "* Remove highly correlated - colinear - columns"
   ]
  },
  {
   "cell_type": "markdown",
   "metadata": {},
   "source": [
    "#### Missing Values\n",
    "\n",
    "We'll drop any columns with more than 90% missing values."
   ]
  },
  {
   "cell_type": "code",
   "execution_count": null,
   "metadata": {
    "ExecuteTime": {
     "start_time": "2018-10-31T01:48:48.101Z"
    }
   },
   "outputs": [],
   "source": [
    "missing_pct = feature_matrix.isnull().sum() / len(feature_matrix)\n",
    "to_drop = list((missing_pct[missing_pct > 0.9]).index)\n",
    "to_drop = [x for x in to_drop if x != 'days_to_churn']"
   ]
  },
  {
   "cell_type": "code",
   "execution_count": null,
   "metadata": {
    "ExecuteTime": {
     "start_time": "2018-10-31T01:48:48.902Z"
    }
   },
   "outputs": [],
   "source": [
    "feature_matrix.drop(columns = to_drop, inplace = True)\n",
    "feature_matrix.shape"
   ]
  },
  {
   "cell_type": "markdown",
   "metadata": {},
   "source": [
    "#### One Unique Value\n",
    "\n",
    "Columns with only a single unique value contain no information and hence can be dropped."
   ]
  },
  {
   "cell_type": "code",
   "execution_count": null,
   "metadata": {
    "ExecuteTime": {
     "start_time": "2018-10-31T01:48:49.878Z"
    }
   },
   "outputs": [],
   "source": [
    "one_unique = feature_matrix.apply(lambda x: x.nunique() == 1, axis = 0)\n",
    "to_drop = list(one_unique[one_unique == True].index)\n",
    "to_drop"
   ]
  },
  {
   "cell_type": "code",
   "execution_count": null,
   "metadata": {
    "ExecuteTime": {
     "start_time": "2018-10-31T01:48:50.118Z"
    }
   },
   "outputs": [],
   "source": [
    "feature_matrix.drop(columns = to_drop, inplace = True)\n",
    "feature_matrix.shape"
   ]
  },
  {
   "cell_type": "markdown",
   "metadata": {},
   "source": [
    "#### Highly Correlated (collinear) Columns\n",
    "\n",
    "Collinear columns can slow down training, lead to less interpretable models, and decrease generalization performance. Therefore, it's generally a good idea to remove one of each pair of highly correlated columns for machine learning. The following code identifies columns that exceed an absolute magnitude correlation of 0.95."
   ]
  },
  {
   "cell_type": "code",
   "execution_count": null,
   "metadata": {
    "ExecuteTime": {
     "start_time": "2018-10-31T01:48:50.561Z"
    }
   },
   "outputs": [],
   "source": [
    "threshold = 0.95\n",
    "\n",
    "# Calculate correlations\n",
    "corr_matrix = feature_matrix.corr().abs()\n",
    "\n",
    "# Subset to the upper triangle of correlation matrix\n",
    "upper = corr_matrix.where(np.triu(np.ones(corr_matrix.shape), k=1).astype(np.bool))\n",
    "\n",
    "# Identify names of columns with correlation above threshold\n",
    "to_drop = [column for column in upper.columns if any(upper[column] >= threshold)]"
   ]
  },
  {
   "cell_type": "code",
   "execution_count": null,
   "metadata": {
    "ExecuteTime": {
     "start_time": "2018-10-31T01:48:51.192Z"
    }
   },
   "outputs": [],
   "source": [
    "print(f'There are {len(to_drop)} columns to drop with correlation > {threshold}')"
   ]
  },
  {
   "cell_type": "code",
   "execution_count": null,
   "metadata": {
    "ExecuteTime": {
     "start_time": "2018-10-31T01:48:51.678Z"
    }
   },
   "outputs": [],
   "source": [
    "feature_matrix.drop(columns = to_drop, inplace = True)\n",
    "feature_matrix.shape"
   ]
  },
  {
   "cell_type": "markdown",
   "metadata": {},
   "source": [
    "These data cleaning operations should increase the generalization performance of our model and make it more interpretable. A few simple operations can greatly improve a machine learning model and often are more effective than model optimization."
   ]
  },
  {
   "cell_type": "markdown",
   "metadata": {},
   "source": [
    "# Separate into Training and Testing Set\n",
    "\n",
    "We'll separate into a training and testing set based on the date. We'll use 25% of the data in the testing and 75% in the training. Separating training and testing by the date is important in time sensitive problems because it prevents data leakage and gives a better estimate of the generalization performance of the model. On real data, our model will have to make forecasts of the future, and we can try to recreate that situation by using a hold-out set from later in time than the training data."
   ]
  },
  {
   "cell_type": "code",
   "execution_count": null,
   "metadata": {
    "ExecuteTime": {
     "start_time": "2018-10-31T01:48:52.663Z"
    }
   },
   "outputs": [],
   "source": [
    "feature_matrix['cutoff_time'] = pd.to_datetime(feature_matrix['cutoff_time'])\n",
    "feature_matrix['cutoff_time'].describe()"
   ]
  },
  {
   "cell_type": "markdown",
   "metadata": {},
   "source": [
    "The cell below splits the data based on the time. First we sort by the time and then find the first 75% for training and the latter 25% for testing."
   ]
  },
  {
   "cell_type": "code",
   "execution_count": null,
   "metadata": {
    "ExecuteTime": {
     "start_time": "2018-10-31T01:48:53.337Z"
    }
   },
   "outputs": [],
   "source": [
    "train_fraction = 0.75\n",
    "test_start = int(len(feature_matrix) * train_fraction)\n",
    "feature_matrix.sort_values('cutoff_time', inplace = True)\n",
    "\n",
    "train = feature_matrix.iloc[:test_start].copy()\n",
    "test = feature_matrix.iloc[test_start:].copy()\n",
    "\n",
    "train.sort_values(['cutoff_time'], inplace = True)\n",
    "test.sort_values(['cutoff_time'], inplace = True)\n",
    "train.shape, test.shape"
   ]
  },
  {
   "cell_type": "markdown",
   "metadata": {},
   "source": [
    "# Feature Preparation\n",
    "\n",
    "The next blocks of code get the features ready for machine learning.\n",
    "\n",
    "\n",
    "### Encoding Categoricals\n",
    "\n",
    "First we need to one hot encode the features. After doing this, we align the training and testing dataframes so they have the same columns."
   ]
  },
  {
   "cell_type": "code",
   "execution_count": null,
   "metadata": {
    "ExecuteTime": {
     "start_time": "2018-10-31T01:48:54.151Z"
    }
   },
   "outputs": [],
   "source": [
    "train = pd.get_dummies(train.drop(columns = ['cutoff_time', 'msno']))\n",
    "test = pd.get_dummies(test.drop(columns = ['cutoff_time', 'msno']))\n",
    "\n",
    "train, test = train.align(test, join = 'inner', axis = 1)\n",
    "train.shape, test.shape"
   ]
  },
  {
   "cell_type": "markdown",
   "metadata": {},
   "source": [
    "### Extract the Labels\n",
    "\n",
    "Now we can extract the labels. There are two different problems: one is a binary classification of whether or not the customer will churn during the month. The other is a regression: how many days are there until the next churn."
   ]
  },
  {
   "cell_type": "code",
   "execution_count": null,
   "metadata": {
    "ExecuteTime": {
     "start_time": "2018-10-31T01:48:54.811Z"
    }
   },
   "outputs": [],
   "source": [
    "y, test_y = np.array(train.pop('label')), np.array(test.pop('label'))\n",
    "\n",
    "y_reg, test_y_reg = np.array(train.pop('days_to_churn')), np.array(\n",
    "    test.pop('days_to_churn'))"
   ]
  },
  {
   "cell_type": "code",
   "execution_count": null,
   "metadata": {
    "ExecuteTime": {
     "start_time": "2018-10-31T01:48:55.086Z"
    }
   },
   "outputs": [],
   "source": [
    "import matplotlib.pyplot as plt\n",
    "%matplotlib inline\n",
    "\n",
    "plt.hist(y); plt.title('Label Distribution');\n",
    "plt.ylabel('Count');"
   ]
  },
  {
   "cell_type": "markdown",
   "metadata": {},
   "source": [
    "### Fill in Missing Values\n",
    "\n",
    "We can fill in missing values using the median of the column. As an important note, the missing test values are filled in with the median of the corresponding training feature."
   ]
  },
  {
   "cell_type": "code",
   "execution_count": 20,
   "metadata": {
    "ExecuteTime": {
     "end_time": "2018-10-30T20:30:22.346973Z",
     "start_time": "2018-10-30T20:30:19.239625Z"
    }
   },
   "outputs": [],
   "source": [
    "train = train.replace({np.inf: np.nan, -np.inf: np.nan}).\\\n",
    "    fillna(train.median())"
   ]
  },
  {
   "cell_type": "code",
   "execution_count": 21,
   "metadata": {
    "ExecuteTime": {
     "end_time": "2018-10-30T20:30:24.331935Z",
     "start_time": "2018-10-30T20:30:22.349404Z"
    }
   },
   "outputs": [],
   "source": [
    "test = test.replace({np.inf: np.nan, -np.inf: np.nan}).\\\n",
    "    fillna(train.median())"
   ]
  },
  {
   "cell_type": "code",
   "execution_count": 22,
   "metadata": {
    "ExecuteTime": {
     "end_time": "2018-10-30T20:30:27.964226Z",
     "start_time": "2018-10-30T20:30:24.334142Z"
    }
   },
   "outputs": [
    {
     "data": {
      "text/plain": [
       "(False, False)"
      ]
     },
     "execution_count": 22,
     "metadata": {},
     "output_type": "execute_result"
    }
   ],
   "source": [
    "np.any(train.isnull()), np.any(np.isinf(train))"
   ]
  },
  {
   "cell_type": "markdown",
   "metadata": {},
   "source": [
    "Now that there are no missing values and all of the values are numeric, our data is ready for machine learning. However, before we do machine learning, we need to figure out what a naive baseline would score."
   ]
  },
  {
   "cell_type": "markdown",
   "metadata": {},
   "source": [
    "# Naive Baseline\n",
    "\n",
    "For a naive baseline, we can randomly guess that a customer has churned with the same frequence of the churns in the training data. We'll assess the predictions using a number of different metrics.\n",
    "\n",
    "## Metrics\n",
    "\n",
    "For an imbalanced classification problem, there are a number of metrics to consider:\n",
    "\n",
    "* Receiver Operating Characteristic Area Under the Curve (ROC AUC): a measure between 0 and 1 comparing the performance of the classifier when predicting probabilities across a range of thresholds.\n",
    "* Precision Score: number of true positives divided by the total number of positives predicted\n",
    "* Recall Score: number of true positives divided by the total number of actual positives in the data\n",
    "* F1 Score: Harmonic mean of precision and recall\n",
    "\n",
    "The exact metric used and the threshold that our model needs to reach depends on the business need. We can tune the model to some extent to optimize for different metrics."
   ]
  },
  {
   "cell_type": "code",
   "execution_count": 23,
   "metadata": {
    "ExecuteTime": {
     "end_time": "2018-10-30T20:30:27.987224Z",
     "start_time": "2018-10-30T20:30:27.971251Z"
    }
   },
   "outputs": [
    {
     "data": {
      "text/plain": [
       "(array([0, 0, 0, 0, 0, 1, 0, 0, 0, 0]), 7813)"
      ]
     },
     "execution_count": 23,
     "metadata": {},
     "output_type": "execute_result"
    }
   ],
   "source": [
    "np.random.seed(50)\n",
    "naive_guess = np.random.binomial(1, p = np.mean(y), size = len(test_y))\n",
    "naive_guess[:10], naive_guess.sum()"
   ]
  },
  {
   "cell_type": "code",
   "execution_count": 24,
   "metadata": {
    "ExecuteTime": {
     "end_time": "2018-10-30T20:30:29.081532Z",
     "start_time": "2018-10-30T20:30:27.993979Z"
    }
   },
   "outputs": [
    {
     "name": "stdout",
     "output_type": "stream",
     "text": [
      "Naive Baseline\n",
      "\n",
      "ROC AUC: 0.5\n",
      "precision_score: 0.0146\n",
      "recall_score: 0.0457\n",
      "f1_score: 0.0221\n"
     ]
    }
   ],
   "source": [
    "from sklearn.metrics import (roc_auc_score, precision_score, \n",
    "                             recall_score, f1_score)\n",
    "\n",
    "print(f'Naive Baseline\\n')\n",
    "roc = roc_auc_score(test_y, np.repeat(np.mean(y), len(test_y)))\n",
    "print(f'ROC AUC: {round(roc, 4)}')\n",
    "\n",
    "for metric in [precision_score, recall_score, f1_score]:\n",
    "    print(f'{metric.__name__}: {round(metric(test_y, naive_guess), 4)}')\n"
   ]
  },
  {
   "cell_type": "markdown",
   "metadata": {},
   "source": [
    "We can see that these metrics are very poor! With no machine learning, we are only able to identify 2.9% of the customer churns and only 0.9% of the predicted churns were actually churns. A naive approach clearly does not provide much value."
   ]
  },
  {
   "cell_type": "code",
   "execution_count": 25,
   "metadata": {
    "ExecuteTime": {
     "end_time": "2018-10-30T20:30:29.098759Z",
     "start_time": "2018-10-30T20:30:29.089236Z"
    }
   },
   "outputs": [
    {
     "name": "stdout",
     "output_type": "stream",
     "text": [
      "The percentage of churns is 4.72% in the training data.\n"
     ]
    }
   ],
   "source": [
    "print(f'The percentage of churns is {100 * round(np.mean(y), 4)}% in the training data.')"
   ]
  },
  {
   "cell_type": "markdown",
   "metadata": {},
   "source": [
    "# Machine Learning\n",
    "\n",
    "Now we need to see if machine learning is up to the task of improving on these predictions. We'll start simple, using a linear model to assess if this problem is easy enough to be solved with Logistic Regression. \n",
    "\n",
    "(The machine learning models are implemented in [Scikit-Learn](https://sklearn.org/)). \n",
    "\n",
    "## Baseline Model\n",
    "\n",
    "We can use a logistic regression in order to see baseline performance on this problem. If the logistic regression works well enough, then there is no need to move to a more complex model."
   ]
  },
  {
   "cell_type": "code",
   "execution_count": 26,
   "metadata": {
    "ExecuteTime": {
     "end_time": "2018-10-30T20:30:29.235031Z",
     "start_time": "2018-10-30T20:30:29.107203Z"
    }
   },
   "outputs": [],
   "source": [
    "from sklearn.linear_model import LogisticRegression\n",
    "\n",
    "model = LogisticRegression(random_state = 50)"
   ]
  },
  {
   "cell_type": "markdown",
   "metadata": {},
   "source": [
    "We can write a simple function to evaluate predictions. This implements the metrics used above. (A full list of metrics in Scikit-Learn can be found in [this documentation](http://scikit-learn.org/stable/modules/classes.html))"
   ]
  },
  {
   "cell_type": "code",
   "execution_count": 27,
   "metadata": {
    "ExecuteTime": {
     "end_time": "2018-10-30T20:30:46.652510Z",
     "start_time": "2018-10-30T20:30:29.241681Z"
    }
   },
   "outputs": [
    {
     "name": "stdout",
     "output_type": "stream",
     "text": [
      "LogisticRegression\n",
      "\n",
      "ROC AUC: 0.5366\n",
      "precision_score: 0.004\n",
      "recall_score: 0.0048\n",
      "f1_score: 0.0044\n"
     ]
    }
   ],
   "source": [
    "from sklearn.metrics import roc_auc_score, precision_score, recall_score, f1_score\n",
    "\n",
    "\n",
    "def evaluate(model, train, y, test, test_y):\n",
    "    \"\"\"Evaluate a machine learning model on four metrics:\n",
    "       ROC AUC, precision score, recall score, and f1 score.\n",
    "       \n",
    "       Returns the model and the predictions.\"\"\"\n",
    "    \n",
    "    model.fit(train, y)\n",
    "\n",
    "    # Predict probabilities and labels\n",
    "    probs = model.predict_proba(test)[:, 1]\n",
    "    preds = model.predict(test)\n",
    "\n",
    "    # Calculate ROC AUC\n",
    "    roc = roc_auc_score(test_y, probs)\n",
    "    name = repr(model).split('(')[0]\n",
    "    print(f\"{name}\\n\")\n",
    "    print(f'ROC AUC: {round(roc, 4)}')\n",
    "\n",
    "    # Iterate through metrics\n",
    "    for metric in [precision_score, recall_score, f1_score]:\n",
    "        # Use .__name__ attribute to list metric\n",
    "        print(f'{metric.__name__}: {round(metric(test_y, preds), 4)}')\n",
    "\n",
    "    return model, preds\n",
    "\n",
    "\n",
    "model, preds = evaluate(model, train, y, test, test_y)"
   ]
  },
  {
   "cell_type": "markdown",
   "metadata": {},
   "source": [
    "The baseline model does perform slightly better than guessing in terms of ROC AUC. The precision is slightly higher than the naive baseline although the recall is much lower leading to an overall reduced f1 score (with a default threshold of 0.5 for classifying positive examples). This poor performance by the logistic regression indicates the problem of separating churn from not-churn is non-linear."
   ]
  },
  {
   "cell_type": "markdown",
   "metadata": {},
   "source": [
    "## More Complex Model\n",
    "\n",
    "For a potentially better machine learning model, we can move to the [Random Forest Classifier](http://scikit-learn.org/stable/modules/generated/sklearn.ensemble.RandomForestClassifier.html). From the results of the logistic regression, this looks to be a non-linear problem which means we should use a model capable of learning a non-linear decision boundary."
   ]
  },
  {
   "cell_type": "markdown",
   "metadata": {},
   "source": [
    "We'll use most of the default hyperparameters but alter a few to prevent overfitting. We can also set `class_weight = 'balanced'` to try and offset the impact of such an imbalanced classification problem."
   ]
  },
  {
   "cell_type": "code",
   "execution_count": 28,
   "metadata": {
    "ExecuteTime": {
     "end_time": "2018-10-30T20:31:39.659411Z",
     "start_time": "2018-10-30T20:30:46.658526Z"
    }
   },
   "outputs": [
    {
     "name": "stderr",
     "output_type": "stream",
     "text": [
      "/home/ubuntu/anaconda3/lib/python3.6/site-packages/sklearn/ensemble/weight_boosting.py:29: DeprecationWarning: numpy.core.umath_tests is an internal NumPy module and should not be imported. It will be removed in a future NumPy release.\n",
      "  from numpy.core.umath_tests import inner1d\n"
     ]
    },
    {
     "name": "stdout",
     "output_type": "stream",
     "text": [
      "RandomForestClassifier\n",
      "\n",
      "ROC AUC: 0.9947\n",
      "precision_score: 0.4425\n",
      "recall_score: 0.9948\n",
      "f1_score: 0.6126\n"
     ]
    }
   ],
   "source": [
    "from sklearn.ensemble import RandomForestClassifier\n",
    "\n",
    "model = RandomForestClassifier(n_estimators=100, max_depth=40,\n",
    "                               min_samples_leaf = 50,\n",
    "                               n_jobs=-1, class_weight = 'balanced',\n",
    "                               random_state = 50)\n",
    "\n",
    "model, preds = evaluate(model, train, y, test, test_y)"
   ]
  },
  {
   "cell_type": "markdown",
   "metadata": {},
   "source": [
    "The random forest performance is much better than just guessing! With no tuning, the model is able to identify 36% of the customer churns and the false positives have been reduced. This should give us confidence that we can solve this problem using machine learning.\n",
    "\n",
    "# Model Validation\n",
    "\n",
    "We need to inspect the model results to determine if it meets our business needs. This includes looking at the performance as well as the feature importances. We want to make sure that our model performs well, but also try and understand _why_ it performs well. \n",
    "\n",
    "## Precision Recall Curve\n",
    "\n",
    "One of the best methods for tuning a model for a business need is through the precision recall curve. This shows the precision-recall tradeoff for different thresholds. Depending on the business requirement, we can change the threshold for classifying a positive example to alter the balance of true positives, false positives, false negatives, and true negatives. There will always be a tradeoff between precision and recall, but we can try to find the right balance by visually and quantitatively assessing the model."
   ]
  },
  {
   "cell_type": "code",
   "execution_count": 29,
   "metadata": {
    "ExecuteTime": {
     "end_time": "2018-10-30T20:31:41.201268Z",
     "start_time": "2018-10-30T20:31:39.666302Z"
    }
   },
   "outputs": [
    {
     "data": {
      "image/png": "[encoded data removed]",
      "text/plain": [
       "<Figure size 720x576 with 1 Axes>"
      ]
     },
     "metadata": {},
     "output_type": "display_data"
    }
   ],
   "source": [
    "from sklearn.metrics import precision_recall_curve, confusion_matrix\n",
    "\n",
    "import matplotlib.pyplot as plt\n",
    "%matplotlib inline\n",
    "\n",
    "plt.style.use('seaborn');\n",
    "\n",
    "def plot_precision_recall(test_y, probs, title = 'Precision Recall Curve', threshold_selected = None):\n",
    "    \"\"\"Plot a precision recall curve for predictions. \n",
    "       Source: http://scikit-learn.org/stable/auto_examples/model_selection/plot_precision_recall.html#sphx-glr-auto-examples-model-selection-plot-precision-recall-py\"\"\"\n",
    "    \n",
    "    precision, recall, threshold = precision_recall_curve(test_y, probs)\n",
    "    plt.figure(figsize = (10, 8))\n",
    "    # In matplotlib < 1.5, plt.fill_between does not have a 'step' argument\n",
    "    step_kwargs = ({'step': 'post'})\n",
    "    plt.step(recall, precision, color='b', alpha=0.2,\n",
    "             where='post')\n",
    "    plt.fill_between(recall, precision, alpha=0.2, color='b', **step_kwargs)\n",
    "\n",
    "    plt.xlabel('Recall', size = 18)\n",
    "    plt.ylabel('Precision', size = 18)\n",
    "    plt.ylim([0.0, 1.05])\n",
    "    plt.xlim([0.0, 1.0])\n",
    "    plt.title(title, size = 20)\n",
    "    plt.xticks(size = 14); plt.yticks(size = 14)\n",
    "    \n",
    "    if threshold_selected:\n",
    "        p = precision(np.where(threshold == threshold_selected)[0])\n",
    "        r = recall(np.where(threshold == threshold_selected)[0])\n",
    "        plt.scatter(r, p, marker = '*', size = 200)\n",
    "        plt.vlines(r, ymin = 0, ymax = p, linestyles = '--');\n",
    "        plt.hlines(p, xmin = 0, xmax = r, linestyles = '--');\n",
    "    \n",
    "    pr = pd.DataFrame({'precision': precision[:-1], 'recall': recall[:-1],\n",
    "                       'threshold': threshold})\n",
    "    return pr\n",
    "    \n",
    "probs = model.predict_proba(test)[:, 1]\n",
    "pr_data = plot_precision_recall(test_y, probs, title = 'Precision-Recall Curve for Random Forest')"
   ]
  },
  {
   "cell_type": "markdown",
   "metadata": {},
   "source": [
    "We can query the dataframe to find the threshold required for a given precision or recall. For example, to find the threshold for a precision of 50%, we use the following code:"
   ]
  },
  {
   "cell_type": "code",
   "execution_count": 30,
   "metadata": {
    "ExecuteTime": {
     "end_time": "2018-10-30T20:31:41.228564Z",
     "start_time": "2018-10-30T20:31:41.209015Z"
    }
   },
   "outputs": [
    {
     "data": {
      "text/html": [
       "<div>\n",
       "<style scoped>\n",
       "    .dataframe tbody tr th:only-of-type {\n",
       "        vertical-align: middle;\n",
       "    }\n",
       "\n",
       "    .dataframe tbody tr th {\n",
       "        vertical-align: top;\n",
       "    }\n",
       "\n",
       "    .dataframe thead th {\n",
       "        text-align: right;\n",
       "    }\n",
       "</style>\n",
       "<table border=\"1\" class=\"dataframe\">\n",
       "  <thead>\n",
       "    <tr style=\"text-align: right;\">\n",
       "      <th></th>\n",
       "      <th>precision</th>\n",
       "      <th>recall</th>\n",
       "      <th>threshold</th>\n",
       "    </tr>\n",
       "  </thead>\n",
       "  <tbody>\n",
       "    <tr>\n",
       "      <th>2532</th>\n",
       "      <td>0.500000</td>\n",
       "      <td>0.801845</td>\n",
       "      <td>0.643549</td>\n",
       "    </tr>\n",
       "    <tr>\n",
       "      <th>2533</th>\n",
       "      <td>0.500125</td>\n",
       "      <td>0.801845</td>\n",
       "      <td>0.643558</td>\n",
       "    </tr>\n",
       "    <tr>\n",
       "      <th>2534</th>\n",
       "      <td>0.500000</td>\n",
       "      <td>0.801444</td>\n",
       "      <td>0.643591</td>\n",
       "    </tr>\n",
       "    <tr>\n",
       "      <th>2535</th>\n",
       "      <td>0.500125</td>\n",
       "      <td>0.801444</td>\n",
       "      <td>0.643686</td>\n",
       "    </tr>\n",
       "    <tr>\n",
       "      <th>2536</th>\n",
       "      <td>0.500000</td>\n",
       "      <td>0.801043</td>\n",
       "      <td>0.643711</td>\n",
       "    </tr>\n",
       "  </tbody>\n",
       "</table>\n",
       "</div>"
      ],
      "text/plain": [
       "      precision    recall  threshold\n",
       "2532   0.500000  0.801845   0.643549\n",
       "2533   0.500125  0.801845   0.643558\n",
       "2534   0.500000  0.801444   0.643591\n",
       "2535   0.500125  0.801444   0.643686\n",
       "2536   0.500000  0.801043   0.643711"
      ]
     },
     "execution_count": 30,
     "metadata": {},
     "output_type": "execute_result"
    }
   ],
   "source": [
    "precision_above = pr_data.loc[pr_data['precision'] >= 0.5].copy()\n",
    "precision_above.sort_values('recall', ascending = False, inplace = True)\n",
    "precision_above.head()"
   ]
  },
  {
   "cell_type": "markdown",
   "metadata": {},
   "source": [
    "There is no threshold at which our model achieves a precision greater than 50%! We could set the threshold at 1.0 which would result in no predicted instances of churn, thus achieving a precision of 100% and a recall of 0%.\n",
    "\n",
    "### Adjusting for the Business Requirement\n",
    "\n",
    "Let's say we are required to have a recall of 50% in our model. This means our model finds 50% of the true churns in the data. We'll work through the rest of this notebook under this assumption. To find the threshold, we use:"
   ]
  },
  {
   "cell_type": "code",
   "execution_count": 31,
   "metadata": {
    "ExecuteTime": {
     "end_time": "2018-10-30T20:31:41.255585Z",
     "start_time": "2018-10-30T20:31:41.236170Z"
    }
   },
   "outputs": [
    {
     "data": {
      "text/html": [
       "<div>\n",
       "<style scoped>\n",
       "    .dataframe tbody tr th:only-of-type {\n",
       "        vertical-align: middle;\n",
       "    }\n",
       "\n",
       "    .dataframe tbody tr th {\n",
       "        vertical-align: top;\n",
       "    }\n",
       "\n",
       "    .dataframe thead th {\n",
       "        text-align: right;\n",
       "    }\n",
       "</style>\n",
       "<table border=\"1\" class=\"dataframe\">\n",
       "  <thead>\n",
       "    <tr style=\"text-align: right;\">\n",
       "      <th></th>\n",
       "      <th>precision</th>\n",
       "      <th>recall</th>\n",
       "      <th>threshold</th>\n",
       "    </tr>\n",
       "  </thead>\n",
       "  <tbody>\n",
       "    <tr>\n",
       "      <th>4794</th>\n",
       "      <td>0.718318</td>\n",
       "      <td>0.500201</td>\n",
       "      <td>0.894468</td>\n",
       "    </tr>\n",
       "    <tr>\n",
       "      <th>4793</th>\n",
       "      <td>0.717904</td>\n",
       "      <td>0.500201</td>\n",
       "      <td>0.894381</td>\n",
       "    </tr>\n",
       "    <tr>\n",
       "      <th>4792</th>\n",
       "      <td>0.717491</td>\n",
       "      <td>0.500201</td>\n",
       "      <td>0.894378</td>\n",
       "    </tr>\n",
       "    <tr>\n",
       "      <th>4790</th>\n",
       "      <td>0.717241</td>\n",
       "      <td>0.500602</td>\n",
       "      <td>0.894327</td>\n",
       "    </tr>\n",
       "    <tr>\n",
       "      <th>4791</th>\n",
       "      <td>0.717079</td>\n",
       "      <td>0.500201</td>\n",
       "      <td>0.894348</td>\n",
       "    </tr>\n",
       "  </tbody>\n",
       "</table>\n",
       "</div>"
      ],
      "text/plain": [
       "      precision    recall  threshold\n",
       "4794   0.718318  0.500201   0.894468\n",
       "4793   0.717904  0.500201   0.894381\n",
       "4792   0.717491  0.500201   0.894378\n",
       "4790   0.717241  0.500602   0.894327\n",
       "4791   0.717079  0.500201   0.894348"
      ]
     },
     "execution_count": 31,
     "metadata": {},
     "output_type": "execute_result"
    }
   ],
   "source": [
    "recall_above = pr_data.loc[pr_data['recall'] >= 0.5].copy()\n",
    "recall_above.sort_values('precision', ascending = False, inplace = True)\n",
    "recall_above.head()"
   ]
  },
  {
   "cell_type": "code",
   "execution_count": 32,
   "metadata": {
    "ExecuteTime": {
     "end_time": "2018-10-30T20:31:41.273127Z",
     "start_time": "2018-10-30T20:31:41.263248Z"
    }
   },
   "outputs": [
    {
     "name": "stdout",
     "output_type": "stream",
     "text": [
      "At a threshold of 0.8945 the recall is 50% and the precision is 71.8318%\n"
     ]
    }
   ],
   "source": [
    "precision_attained = recall_above.iloc[0, 0]\n",
    "threshold_required = recall_above.iloc[0, -1]\n",
    "\n",
    "print(f'At a threshold of {round(threshold_required, 4)} the recall is 50% and the precision is {round(100 * precision_attained, 4)}%')"
   ]
  },
  {
   "cell_type": "markdown",
   "metadata": {},
   "source": [
    "This means that in order to identify 50% of the actual churns, we'll have to accept that only 3.6% of the predicted positives are actually positive churns. "
   ]
  },
  {
   "cell_type": "code",
   "execution_count": 33,
   "metadata": {
    "ExecuteTime": {
     "end_time": "2018-10-30T20:31:41.293526Z",
     "start_time": "2018-10-30T20:31:41.280564Z"
    }
   },
   "outputs": [],
   "source": [
    "def plot_precision_recall(test_y, probs, title = 'Precision Recall Curve', threshold_selected = None):\n",
    "    \"\"\"Plot a precision recall curve for predictions. \n",
    "       Source: http://scikit-learn.org/stable/auto_examples/model_selection/plot_precision_recall.html#sphx-glr-auto-examples-model-selection-plot-precision-recall-py\"\"\"\n",
    "    \n",
    "    precision, recall, threshold = precision_recall_curve(test_y, probs)\n",
    "    plt.figure(figsize = (10, 10))\n",
    "    # In matplotlib < 1.5, plt.fill_between does not have a 'step' argument\n",
    "    step_kwargs = ({'step': 'post'})\n",
    "    plt.step(recall, precision, color='b', alpha=0.2,\n",
    "             where='post')\n",
    "    plt.fill_between(recall, precision, alpha=0.2, color='b', **step_kwargs)\n",
    "\n",
    "    plt.xlabel('Recall', size = 24)\n",
    "    plt.ylabel('Precision', size = 24)\n",
    "    plt.ylim([0.0, 1.05])\n",
    "    plt.xlim([0.0, 1.0])\n",
    "    plt.title(title, size = 24)\n",
    "    plt.xticks(size = 18); plt.yticks(size = 18)\n",
    "    \n",
    "    if threshold_selected:\n",
    "        p = precision[np.where(threshold == threshold_selected)[0]]\n",
    "        r = recall[np.where(threshold == threshold_selected)[0]]\n",
    "        plt.scatter(r, p, marker = '*', s = 600, c = 'r')\n",
    "        plt.vlines(r, ymin = 0, ymax = p, linestyles = '--');\n",
    "        plt.hlines(p, xmin = 0, xmax = r, linestyles = '--');\n",
    "        plt.text(r - 0.1, p + 0.15, \n",
    "                 s = f'Threshold: {round(threshold_selected, 2)}', size = 20, fontdict = {'weight': 1000})\n",
    "        plt.text(r - 0.2, p + 0.075, \n",
    "                 s = f'Precision: {round(100 * p[0], 2)}% Recall: {round(100 * r[0], 2)}%', size = 20,\n",
    "                fontdict = {'weight': 1000})\n",
    "    \n",
    "    pr = pd.DataFrame({'precision': precision[:-1], 'recall': recall[:-1],\n",
    "                       'threshold': threshold})\n",
    "    return pr"
   ]
  },
  {
   "cell_type": "code",
   "execution_count": 34,
   "metadata": {
    "ExecuteTime": {
     "end_time": "2018-10-30T20:31:41.871411Z",
     "start_time": "2018-10-30T20:31:41.302116Z"
    }
   },
   "outputs": [
    {
     "data": {
      "image/png": "[encoded data removed]",
      "text/plain": [
       "<Figure size 720x720 with 1 Axes>"
      ]
     },
     "metadata": {},
     "output_type": "display_data"
    }
   ],
   "source": [
    "pr_data = plot_precision_recall(test_y, probs, title = 'Precision-Recall Curve for Tuned Random Forest',\n",
    "                                threshold_selected = threshold_required)"
   ]
  },
  {
   "cell_type": "markdown",
   "metadata": {},
   "source": [
    "## Confusion Matrix\n",
    "\n",
    "A confusion matrix is often a useful way to visualize predictions. This shows the true values along the top row and the predicted values along the bottom row. Looking at the different cells, we can see where the model performed well and where it did not do so well.\n",
    "\n",
    "We'll use the threshold identified above to construct the confusion matrix."
   ]
  },
  {
   "cell_type": "code",
   "execution_count": 35,
   "metadata": {
    "ExecuteTime": {
     "end_time": "2018-10-30T20:31:41.891098Z",
     "start_time": "2018-10-30T20:31:41.879161Z"
    }
   },
   "outputs": [],
   "source": [
    "from sklearn.metrics import confusion_matrix\n",
    "import itertools\n",
    "def plot_confusion_matrix(cm, classes,\n",
    "                          normalize=False,\n",
    "                          title='Confusion matrix',\n",
    "                          cmap=plt.cm.YlOrRd):\n",
    "    \"\"\"\n",
    "    This function prints and plots the confusion matrix.\n",
    "    Normalization can be applied by setting `normalize=True`.\n",
    "    Source: http://scikit-learn.org/stable/auto_examples/model_selection/plot_confusion_matrix.html\n",
    "    \"\"\"\n",
    "    if normalize:\n",
    "        cm = cm.astype('float') / cm.sum(axis=1)[:, np.newaxis]\n",
    "        print(\"Normalized confusion matrix\")\n",
    "    else:\n",
    "        print('Confusion matrix, without normalization')\n",
    "\n",
    "    print(cm)\n",
    "    plt.style.use('bmh')\n",
    "    plt.figure(figsize = (9, 9))\n",
    "    plt.imshow(cm, interpolation='nearest', cmap=cmap)\n",
    "    plt.title(title, size = 22)\n",
    "    plt.colorbar()\n",
    "    tick_marks = np.arange(len(classes))\n",
    "    plt.xticks(tick_marks, classes, rotation=45, size = 20)\n",
    "    plt.yticks(tick_marks, classes, size = 20)\n",
    "\n",
    "    fmt = '.2f' if normalize else 'd'\n",
    "    thresh = cm.max() / 2.\n",
    "    for i, j in itertools.product(range(cm.shape[0]), range(cm.shape[1])):\n",
    "        plt.text(j, i, format(cm[i, j], fmt),\n",
    "                 horizontalalignment=\"center\",\n",
    "                 color=\"white\" if cm[i, j] > thresh else \"black\",\n",
    "                 size = 20)\n",
    "    plt.grid(None)\n",
    "    plt.ylabel('True label', size = 22)\n",
    "    plt.xlabel('Predicted label', size = 22)\n",
    "    plt.tight_layout()"
   ]
  },
  {
   "cell_type": "code",
   "execution_count": 36,
   "metadata": {
    "ExecuteTime": {
     "end_time": "2018-10-30T20:31:42.551395Z",
     "start_time": "2018-10-30T20:31:41.899139Z"
    }
   },
   "outputs": [
    {
     "name": "stdout",
     "output_type": "stream",
     "text": [
      "Confusion matrix, without normalization\n",
      "[[166021    489]\n",
      " [  1246   1247]]\n"
     ]
    },
    {
     "data": {
      "image/png": "[encoded data removed]",
      "text/plain": [
       "<Figure size 648x648 with 2 Axes>"
      ]
     },
     "metadata": {},
     "output_type": "display_data"
    }
   ],
   "source": [
    "# Make predictions where probability is above threshold \n",
    "preds = np.zeros(len(test_y))\n",
    "preds[probs >= threshold_required] = 1\n",
    "\n",
    "# Make and plot confusion matrix\n",
    "cm = confusion_matrix(test_y, preds)\n",
    "plot_confusion_matrix(cm, classes = ['No Churn', 'Churn'],\n",
    "                      title = 'Churn Confusion Matrix')"
   ]
  },
  {
   "cell_type": "markdown",
   "metadata": {},
   "source": [
    "With our business requirement, this is the best prediction of what our performance would be on new data. The model is able to identiy 50% of churned customers compared to a baseline of around 3%. The precision has increased from the baseline 0.9% to 3.7%, a relative increase of over 300%. "
   ]
  },
  {
   "cell_type": "code",
   "execution_count": 37,
   "metadata": {
    "ExecuteTime": {
     "end_time": "2018-10-30T20:31:42.570957Z",
     "start_time": "2018-10-30T20:31:42.559336Z"
    }
   },
   "outputs": [
    {
     "data": {
      "text/plain": [
       "3.1379310344827585"
      ]
     },
     "execution_count": 37,
     "metadata": {},
     "output_type": "execute_result"
    }
   ],
   "source": [
    "abs(0.0087 - 0.036) / 0.0087"
   ]
  },
  {
   "cell_type": "markdown",
   "metadata": {},
   "source": [
    "### Feature Importances\n",
    "\n",
    "As one method for trying to understand how the model makes decisions, we can look at the most important features. The absolute value of the importances is not as useful as is the relative ranking of the features which is determined by how well the feature separates the classes when building the decision trees in the random forest."
   ]
  },
  {
   "cell_type": "code",
   "execution_count": 38,
   "metadata": {
    "ExecuteTime": {
     "end_time": "2018-10-30T20:31:42.714637Z",
     "start_time": "2018-10-30T20:31:42.573502Z"
    }
   },
   "outputs": [
    {
     "data": {
      "text/html": [
       "<div>\n",
       "<style scoped>\n",
       "    .dataframe tbody tr th:only-of-type {\n",
       "        vertical-align: middle;\n",
       "    }\n",
       "\n",
       "    .dataframe tbody tr th {\n",
       "        vertical-align: top;\n",
       "    }\n",
       "\n",
       "    .dataframe thead th {\n",
       "        text-align: right;\n",
       "    }\n",
       "</style>\n",
       "<table border=\"1\" class=\"dataframe\">\n",
       "  <thead>\n",
       "    <tr style=\"text-align: right;\">\n",
       "      <th></th>\n",
       "      <th>importance</th>\n",
       "    </tr>\n",
       "  </thead>\n",
       "  <tbody>\n",
       "    <tr>\n",
       "      <th>TOTAL_PREVIOUS_MONTH(transactions.planned_daily_price, transaction_date)</th>\n",
       "      <td>0.178011</td>\n",
       "    </tr>\n",
       "    <tr>\n",
       "      <th>TOTAL_PREVIOUS_MONTH(transactions.payment_plan_days, transaction_date)</th>\n",
       "      <td>0.108885</td>\n",
       "    </tr>\n",
       "    <tr>\n",
       "      <th>TOTAL_PREVIOUS_MONTH(transactions.payment_plan_days, membership_expire_date)</th>\n",
       "      <td>0.044942</td>\n",
       "    </tr>\n",
       "    <tr>\n",
       "      <th>AVG_TIME_BETWEEN(transactions.transaction_date)</th>\n",
       "      <td>0.039339</td>\n",
       "    </tr>\n",
       "    <tr>\n",
       "      <th>TOTAL_PREVIOUS_MONTH(transactions.planned_daily_price, membership_expire_date)</th>\n",
       "      <td>0.033573</td>\n",
       "    </tr>\n",
       "  </tbody>\n",
       "</table>\n",
       "</div>"
      ],
      "text/plain": [
       "                                                    importance\n",
       "TOTAL_PREVIOUS_MONTH(transactions.planned_daily...    0.178011\n",
       "TOTAL_PREVIOUS_MONTH(transactions.payment_plan_...    0.108885\n",
       "TOTAL_PREVIOUS_MONTH(transactions.payment_plan_...    0.044942\n",
       "AVG_TIME_BETWEEN(transactions.transaction_date)       0.039339\n",
       "TOTAL_PREVIOUS_MONTH(transactions.planned_daily...    0.033573"
      ]
     },
     "execution_count": 38,
     "metadata": {},
     "output_type": "execute_result"
    }
   ],
   "source": [
    "fi = pd.DataFrame({'importance': model.feature_importances_}, index=train.columns).\\\n",
    "    sort_values('importance', ascending=False)\n",
    "fi.head()"
   ]
  },
  {
   "cell_type": "code",
   "execution_count": 39,
   "metadata": {
    "ExecuteTime": {
     "end_time": "2018-10-30T20:31:43.491042Z",
     "start_time": "2018-10-30T20:31:42.717169Z"
    }
   },
   "outputs": [
    {
     "data": {
      "image/png": "[encoded data removed]",
      "text/plain": [
       "<Figure size 1008x720 with 1 Axes>"
      ]
     },
     "metadata": {},
     "output_type": "display_data"
    }
   ],
   "source": [
    "fi.iloc[:10]['importance'].plot.barh(color = 'r', edgecolor = 'k', \n",
    "                                     figsize = (14, 10), linewidth = 2)\n",
    "ax = plt.gca()\n",
    "ax.invert_yaxis();\n",
    "plt.xticks(size = 20);\n",
    "plt.yticks(size = 18)\n",
    "plt.title('Most Important Features', size = 28);"
   ]
  },
  {
   "cell_type": "markdown",
   "metadata": {},
   "source": [
    "To see why these features are important, we can plot the distribution colored by the value of the label."
   ]
  },
  {
   "cell_type": "code",
   "execution_count": null,
   "metadata": {
    "ExecuteTime": {
     "start_time": "2018-10-30T20:25:28.834Z"
    },
    "scrolled": false
   },
   "outputs": [],
   "source": [
    "import seaborn as sns\n",
    "plt.style.use('fivethirtyeight')\n",
    "\n",
    "train_with_labels = train.copy()\n",
    "train_with_labels['label'] = y\n",
    "\n",
    "# Iterate through features\n",
    "for feature in ['TOTAL_PREVIOUS_MONTH(transactions.planned_daily_price, transaction_date)',\n",
    "                'TOTAL_PREVIOUS_MONTH(transactions.payment_plan_days, transaction_date)',\n",
    "                'AVG_TIME_BETWEEN(transactions.transaction_date)']:\n",
    "    plt.figure(figsize = (20, 8))\n",
    "    \n",
    "    # Iterate through values of the label\n",
    "    for label, grouped in train_with_labels.groupby('label'):\n",
    "        # Plot the distribution of the feature\n",
    "        sns.kdeplot(grouped[feature].dropna(), \n",
    "                    label = 'Churned' if label == 1 else 'No Churn');\n",
    "    # Plot labeling\n",
    "    plt.ylabel('Density'); plt.xlabel(f'{feature.capitalize()}')\n",
    "    plt.title(f'Distribution of {feature.capitalize()}', size = 28);\n",
    "    plt.legend(prop= {'size': 20});"
   ]
  },
  {
   "cell_type": "markdown",
   "metadata": {},
   "source": [
    "There are significant differences between those customers who churned and those who did not. Most noticeably, the customers who churned had less activity in the previous month."
   ]
  },
  {
   "cell_type": "code",
   "execution_count": null,
   "metadata": {
    "ExecuteTime": {
     "start_time": "2018-10-30T20:25:28.841Z"
    }
   },
   "outputs": [],
   "source": [
    "train_with_labels['Time Since Last (Days)'] = train_with_labels['TIME_SINCE_LAST(transactions.transaction_date)'] / (3600 * 24)"
   ]
  },
  {
   "cell_type": "code",
   "execution_count": null,
   "metadata": {
    "ExecuteTime": {
     "start_time": "2018-10-30T20:25:28.846Z"
    }
   },
   "outputs": [],
   "source": [
    "sns.violinplot(x = 'label', y = 'Time Since Last (Days)',\n",
    "               data = train_with_labels, figsize = (10, 28));\n",
    "plt.title('Violin Plot of Time Since Last Transaction');\n",
    "plt.ylabel('Time Since Last Transaction (Days)')\n",
    "plt.xticks([0, 1], ['No Churn', 'Churned']);"
   ]
  },
  {
   "cell_type": "code",
   "execution_count": null,
   "metadata": {
    "ExecuteTime": {
     "start_time": "2018-10-30T20:25:28.852Z"
    }
   },
   "outputs": [],
   "source": [
    "sns.violinplot(x = 'label', y = 'TOTAL_PREVIOUS_MONTH(transactions.actual_amount_paid, membership_expire_date)',\n",
    "               data = train_with_labels.loc[train_with_labels['TOTAL_PREVIOUS_MONTH(transactions.actual_amount_paid, membership_expire_date)'] < 250], \n",
    "               figsize = (10, 20));\n",
    "plt.title('Violin Plot of Total Spent in Previous Month');\n",
    "plt.ylabel('Total Spent in Previous Month')\n",
    "plt.xticks([0, 1], ['No Churn', 'Churned']);"
   ]
  },
  {
   "cell_type": "markdown",
   "metadata": {},
   "source": [
    "# Make Predictions\n",
    "\n",
    "Now we will use the trained model to make predictions on the hold-out testing set. We'll can make predictions in terms of probabilities and then threshold them to labels using our selected threshold."
   ]
  },
  {
   "cell_type": "code",
   "execution_count": null,
   "metadata": {
    "ExecuteTime": {
     "start_time": "2018-10-30T20:25:28.857Z"
    }
   },
   "outputs": [],
   "source": [
    "new_probs = model.predict_proba(test)[:, 1]\n",
    "\n",
    "oos_ids = list(feature_matrix.iloc[test_start:]['msno'])\n",
    "oos_cutoff_time = list(feature_matrix.iloc[test_start:]['time'])\n",
    "\n",
    "prediction_df = pd.DataFrame({'msno': oos_ids, 'cutoff_time': oos_cutoff_time, \n",
    "                              'probability': new_probs})\n",
    "prediction_df['prediction'] = prediction_df['probability'] > threshold_required\n",
    "prediction_df.sample(10)"
   ]
  },
  {
   "cell_type": "code",
   "execution_count": null,
   "metadata": {
    "ExecuteTime": {
     "start_time": "2018-10-30T20:25:28.862Z"
    }
   },
   "outputs": [],
   "source": [
    "to_show = ['lq1wtYrED2Lt+utU0U+vjcwesqY8OiH5eQ5MQATIxy4=', \n",
    "           'vlyt8UdHVr1QT8lbMO1d3aHxnaxCETny+TdaFd83MCs=']\n",
    "\n",
    "show_preds = prediction_df.loc[prediction_df['msno'].isin(to_show)].copy()\n",
    "show_preds.sort_values(['msno', 'cutoff_time'])"
   ]
  },
  {
   "cell_type": "code",
   "execution_count": null,
   "metadata": {
    "ExecuteTime": {
     "start_time": "2018-10-30T20:25:28.867Z"
    }
   },
   "outputs": [],
   "source": [
    "prediction_df['probability'].plot.hist(bins = 20, edgecolor = 'k');\n",
    "plt.axvline(x = threshold_required, color = 'r', linewidth = 2)\n",
    "plt.title('Distribution of Predicted Probabilities');"
   ]
  },
  {
   "cell_type": "markdown",
   "metadata": {},
   "source": [
    "The model is fairly confident that most of the predictions are not churns. Moreover, there are a number of probabilities that are exactly the same as can be seen in the [empirical cumulative density function](https://en.wikipedia.org/wiki/Empirical_distribution_function). "
   ]
  },
  {
   "cell_type": "code",
   "execution_count": null,
   "metadata": {
    "ExecuteTime": {
     "start_time": "2018-10-30T20:25:28.873Z"
    }
   },
   "outputs": [],
   "source": [
    "# Inspiration: https://campus.datacamp.com/courses/statistical-thinking-in-python-part-1/graphical-exploratory-data-analysis?ex=12\n",
    "def ecdf(x):\n",
    "    \"\"\"Empirical Cumulative Density Function of x\"\"\"\n",
    "    n = len(x)\n",
    "    x = np.sort(x)\n",
    "    y = np.arange(1, n + 1) / n\n",
    "    return x, y\n",
    "\n",
    "xs, ys = ecdf(prediction_df['probability'])\n",
    "plt.plot(xs, ys, marker = '.');\n",
    "plt.title('ECDF of Predicted Probobabilities');\n",
    "plt.axvline(x = threshold_required, color = 'r', linewidth = 2);\n",
    "plt.xlabel('Probability'); plt.ylabel('Percentile');"
   ]
  },
  {
   "cell_type": "markdown",
   "metadata": {},
   "source": [
    "# Automated Model Optimization Using TPOT\n",
    "\n",
    "If we are not pleased with the model results using an off-the-shelf algorithm from Scikit-Learn, there are a number of libraries for searching for the best model without any manual intervention. One of the easiest-to-se libraries is known as TPOT. This will search through hundreds of machine learning models, using evolutionary algorithms to guide the discovery process."
   ]
  },
  {
   "cell_type": "markdown",
   "metadata": {},
   "source": [
    "To evaluate the models, we'll use a TimeSeriesSplit. This makes three splits of the data based on the indexes so we need to ensure that our data is sorted by time (already done). "
   ]
  },
  {
   "cell_type": "code",
   "execution_count": null,
   "metadata": {
    "ExecuteTime": {
     "start_time": "2018-10-30T20:25:28.880Z"
    }
   },
   "outputs": [],
   "source": [
    "from sklearn.model_selection import TimeSeriesSplit\n",
    "\n",
    "tss = TimeSeriesSplit(n_splits = 3)"
   ]
  },
  {
   "cell_type": "markdown",
   "metadata": {},
   "source": [
    "Now we make a `TPOTClassifier` object and pass in a few parameters. This particular use case will search 100 models, using `f1` scoring, the TimeSeriesSplit for cross validation, and taking advantage of all the cores on our machine."
   ]
  },
  {
   "cell_type": "code",
   "execution_count": null,
   "metadata": {
    "ExecuteTime": {
     "start_time": "2018-10-30T20:25:28.888Z"
    }
   },
   "outputs": [],
   "source": [
    "from tpot import TPOTClassifier\n",
    "\n",
    "# Make tpot pipeline\n",
    "tpot_pipeline = TPOTClassifier(generations = 10, population_size = 10, \n",
    "                               cv = tss, scoring = 'f1', \n",
    "                               n_jobs = -1, verbosity = 2,\n",
    "                               random_state = 50)"
   ]
  },
  {
   "cell_type": "code",
   "execution_count": null,
   "metadata": {
    "ExecuteTime": {
     "start_time": "2018-10-30T20:25:28.894Z"
    }
   },
   "outputs": [],
   "source": [
    "tpot_pipeline.fit(train, y)"
   ]
  },
  {
   "cell_type": "code",
   "execution_count": null,
   "metadata": {
    "ExecuteTime": {
     "start_time": "2018-10-30T20:25:28.898Z"
    }
   },
   "outputs": [],
   "source": [
    "tpot_pipeline.fitted_pipeline_"
   ]
  },
  {
   "cell_type": "code",
   "execution_count": null,
   "metadata": {
    "ExecuteTime": {
     "start_time": "2018-10-30T20:25:28.904Z"
    }
   },
   "outputs": [],
   "source": [
    "tpot_pipeline.export('best_pipeline_new.py')"
   ]
  },
  {
   "cell_type": "markdown",
   "metadata": {},
   "source": [
    "## Best Pipeline\n",
    "\n",
    "The following code shows the best pipeline exported by TPOT. We can just copy the code, train a model, and make predictions. "
   ]
  },
  {
   "cell_type": "code",
   "execution_count": null,
   "metadata": {
    "ExecuteTime": {
     "start_time": "2018-10-30T20:25:28.910Z"
    }
   },
   "outputs": [],
   "source": [
    "from pygments import highlight\n",
    "from pygments.lexers import PythonLexer\n",
    "from pygments.formatters import HtmlFormatter\n",
    "import IPython\n",
    "\n",
    "with open('best_pipeline.py') as f:\n",
    "    code = f.read()\n",
    "\n",
    "formatter = HtmlFormatter()\n",
    "IPython.display.HTML('<style type=\"text/css\">{}</style>{}'.format(\n",
    "    formatter.get_style_defs('.highlight'),\n",
    "    highlight(code, PythonLexer(), formatter)))"
   ]
  },
  {
   "cell_type": "code",
   "execution_count": null,
   "metadata": {
    "ExecuteTime": {
     "start_time": "2018-10-30T20:25:28.915Z"
    }
   },
   "outputs": [],
   "source": [
    "from sklearn.ensemble import ExtraTreesClassifier\n",
    "\n",
    "exported_pipeline = ExtraTreesClassifier(bootstrap=False, \n",
    "                                         criterion=\"entropy\", \n",
    "                                         max_features=0.1, \n",
    "                                         min_samples_leaf=5, \n",
    "                                         min_samples_split=8, \n",
    "                                         n_estimators=100,\n",
    "                                         random_state = 50,\n",
    "                                         n_jobs = -1)"
   ]
  },
  {
   "cell_type": "code",
   "execution_count": null,
   "metadata": {
    "ExecuteTime": {
     "start_time": "2018-10-30T20:25:28.920Z"
    }
   },
   "outputs": [],
   "source": [
    "model, preds = evaluate(exported_pipeline, train, y, test, test_y)"
   ]
  },
  {
   "cell_type": "markdown",
   "metadata": {},
   "source": [
    "Now we can do the same procedure as before, looking at the precision recall curve and finding the threshold needed for a recall of 50%."
   ]
  },
  {
   "cell_type": "code",
   "execution_count": null,
   "metadata": {
    "ExecuteTime": {
     "start_time": "2018-10-30T20:25:28.926Z"
    }
   },
   "outputs": [],
   "source": [
    "probs = model.predict_proba(test)[:, 1]\n",
    "pr_data = plot_precision_recall(test_y, probs, title = 'Precision-Recall Curve for Optimized Pipeline')"
   ]
  },
  {
   "cell_type": "code",
   "execution_count": null,
   "metadata": {
    "ExecuteTime": {
     "start_time": "2018-10-30T20:25:28.931Z"
    }
   },
   "outputs": [],
   "source": [
    "recall_above = pr_data.loc[pr_data['recall'] >= 0.5].copy()\n",
    "recall_above.sort_values('precision', ascending = False, inplace = True)\n",
    "recall_above.head()"
   ]
  },
  {
   "cell_type": "code",
   "execution_count": null,
   "metadata": {
    "ExecuteTime": {
     "start_time": "2018-10-30T20:25:28.937Z"
    }
   },
   "outputs": [],
   "source": [
    "precision_attained = recall_above.iloc[0, 0]\n",
    "threshold_required = recall_above.iloc[0, -1]\n",
    "\n",
    "print(f'At a threshold of {round(threshold_required, 4)} the recall is 50% and the precision is {round(100 * precision_attained, 4)}%')"
   ]
  },
  {
   "cell_type": "markdown",
   "metadata": {},
   "source": [
    "The Random Forest Classifier built by hand does slightly better than the TPOT optimized model. Running the optimization for longer may result in a better model. However, in terms of time investment, a better option is probably to spend more time on feature engineering. "
   ]
  },
  {
   "cell_type": "code",
   "execution_count": null,
   "metadata": {
    "ExecuteTime": {
     "start_time": "2018-10-30T20:25:28.943Z"
    }
   },
   "outputs": [],
   "source": [
    "preds = np.zeros(len(test_y))\n",
    "preds[probs >= threshold_required] = 1\n",
    "\n",
    "cm = confusion_matrix(test_y, preds)\n",
    "plot_confusion_matrix(cm, classes = ['No Churn', 'Churn'], \n",
    "                      title = 'Optimized Model Confusion Matrix')"
   ]
  },
  {
   "cell_type": "markdown",
   "metadata": {},
   "source": [
    "# Conclusions\n",
    "\n",
    "Our final tuned model was able to achieve a recall of 50% and a precision of 3.6%, a significant increase over the naive baseline of 2.9% recall and 0.9% precision. \n",
    "\n",
    "Overall, the final metrics from modeling are:\n",
    "\n",
    "| Model                                     | ROC AUC | Recall | Precision | F1 Score |\n",
    "|-------------------------------------------|---------|--------|-----------|----------|\n",
    "| Naive Baseline (no ml)                    | 0.5     | 3.54%  | 1.05%     | 0.0162   |\n",
    "| Logistic Regression                       | 0.567   | 0.19%  | 1.13%     | 0.0032   |\n",
    "| Random Forest Default                     | 0.709   | 35.9%  | 6.41%     | 0.1088   |\n",
    "| Random Forest Tuned for 50% Recall        | 0.709   | 50%    | 3.63%     | 0.0677   |\n",
    "| Auto-optimized Model                      | 0.709   | 0.15%  | 2.63%     | 0.0028   |\n",
    "| Auto-optimized Model Tuned for 50% Recall | 0.709   | 50%    | 3.30%     | 0.0617   |\n",
    "\n",
    "With these metrics, we can conclude that machine learning has solved the business problem of identifying customers that will churn in the next month. We can now use this model to predict customers at risk for churning in the future. These predictions would then be handed off to the customer engagement team to hopefully reduce the number of churns. \n",
    "\n",
    "The framework for solving this problem - and for solving any problem with machine learning - was:\n",
    "\n",
    "1. Prediction Engineering: define the business objective, translate into a machine learning task, and create a set of labeled historical examples with cutoff time from the data.\n",
    "2. Feature Engineering: use the label times to automatically build hundreds of relevant and valid features for each label.\n",
    "3. Modeling: use a machine learning algorithm implemented in common Python libraries to train a model to predit the labels from the features. Validate and tune model for the business need and then make predictions on new data.\n",
    "\n",
    "This approach solves a number of problems: it standardizes the traditionally ad-hoc process of solving a problem with machine learning and it is general so that nearly the same code can be used for multiple prediction problems on the same dataset. The benefits of machine learning have been limited to a few companies both because of the lack of a shared language for expressing and solving problems, and because each solution requires custom code and must be completely rebuilt for a different prediction problem. By codifying the processes needed to solve problems with machine learning, we aim to make it easier for companies to use this transformational technology. The achievements of machine learning are already impressive, but with a scaffolding in place the benefits can be extended to a broader population.\n"
   ]
  },
  {
   "cell_type": "code",
   "execution_count": null,
   "metadata": {},
   "outputs": [],
   "source": []
  }
 ],
 "metadata": {
  "kernelspec": {
   "display_name": "Python 3",
   "language": "python",
   "name": "python3"
  },
  "language_info": {
   "codemirror_mode": {
    "name": "ipython",
    "version": 3
   },
   "file_extension": ".py",
   "mimetype": "text/x-python",
   "name": "python",
   "nbconvert_exporter": "python",
   "pygments_lexer": "ipython3",
   "version": "3.6.4"
  },
  "toc": {
   "base_numbering": 1,
   "nav_menu": {},
   "number_sections": true,
   "sideBar": true,
   "skip_h1_title": false,
   "title_cell": "Table of Contents",
   "title_sidebar": "Contents",
   "toc_cell": false,
   "toc_position": {},
   "toc_section_display": true,
   "toc_window_display": false
  },
  "varInspector": {
   "cols": {
    "lenName": 16,
    "lenType": 16,
    "lenVar": 40
   },
   "kernels_config": {
    "python": {
     "delete_cmd_postfix": "",
     "delete_cmd_prefix": "del ",
     "library": "var_list.py",
     "varRefreshCmd": "print(var_dic_list())"
    },
    "r": {
     "delete_cmd_postfix": ") ",
     "delete_cmd_prefix": "rm(",
     "library": "var_list.r",
     "varRefreshCmd": "cat(var_dic_list()) "
    }
   },
   "types_to_exclude": [
    "module",
    "function",
    "builtin_function_or_method",
    "instance",
    "_Feature"
   ],
   "window_display": false
  }
 },
 "nbformat": 4,
 "nbformat_minor": 2
}
