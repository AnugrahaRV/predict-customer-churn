{
 "cells": [
  {
   "cell_type": "markdown",
   "metadata": {},
   "source": [
    "# Introduction: Partition Pipeline\n",
    "\n",
    "In this notebook, we will work with a single partition to develop a pipeline for processing the data. The end goal is code that can take a partition on disk and generate a feature matrix from the partition. This will then be parallelized using Spark in PySpark."
   ]
  },
  {
   "cell_type": "code",
   "execution_count": 34,
   "metadata": {},
   "outputs": [],
   "source": [
    "import pandas as pd \n",
    "import numpy as np\n",
    "\n",
    "import featuretools as ft\n",
    "\n",
    "from IPython.core.interactiveshell import InteractiveShell\n",
    "InteractiveShell.ast_node_interactivity = \"all\""
   ]
  },
  {
   "cell_type": "code",
   "execution_count": 35,
   "metadata": {},
   "outputs": [
    {
     "data": {
      "text/plain": [
       "['transactions.csv', 'members.csv', 'test.csv', 'train.csv', 'logs.csv']"
      ]
     },
     "execution_count": 35,
     "metadata": {},
     "output_type": "execute_result"
    }
   ],
   "source": [
    "directory = '/data/churn/partitions/p0'\n",
    "import os\n",
    "os.listdir(directory)"
   ]
  },
  {
   "cell_type": "code",
   "execution_count": 36,
   "metadata": {},
   "outputs": [
    {
     "data": {
      "text/plain": [
       "1000"
      ]
     },
     "execution_count": 36,
     "metadata": {},
     "output_type": "execute_result"
    }
   ],
   "source": [
    "all_partitions = os.listdir('/data/churn/partitions/')\n",
    "len(all_partitions)"
   ]
  },
  {
   "cell_type": "code",
   "execution_count": 37,
   "metadata": {},
   "outputs": [],
   "source": [
    "members = pd.read_csv(f'{directory}/members.csv', \n",
    "                      parse_dates=['registration_init_time'], infer_datetime_format = True)\n",
    "trans = pd.read_csv(f'{directory}/transactions.csv',\n",
    "                   parse_dates=['transaction_date', 'membership_expire_date'], infer_datetime_format = True)\n",
    "logs = pd.read_csv(f'{directory}/logs.csv', parse_dates = ['date'])\n",
    "train = pd.read_csv(f'{directory}/train.csv')\n",
    "test = pd.read_csv(f'{directory}/test.csv')"
   ]
  },
  {
   "cell_type": "code",
   "execution_count": 38,
   "metadata": {},
   "outputs": [
    {
     "data": {
      "text/html": [
       "<div>\n",
       "<style scoped>\n",
       "    .dataframe tbody tr th:only-of-type {\n",
       "        vertical-align: middle;\n",
       "    }\n",
       "\n",
       "    .dataframe tbody tr th {\n",
       "        vertical-align: top;\n",
       "    }\n",
       "\n",
       "    .dataframe thead th {\n",
       "        text-align: right;\n",
       "    }\n",
       "</style>\n",
       "<table border=\"1\" class=\"dataframe\">\n",
       "  <thead>\n",
       "    <tr style=\"text-align: right;\">\n",
       "      <th></th>\n",
       "      <th>msno</th>\n",
       "      <th>city</th>\n",
       "      <th>bd</th>\n",
       "      <th>gender</th>\n",
       "      <th>registered_via</th>\n",
       "      <th>registration_init_time</th>\n",
       "    </tr>\n",
       "  </thead>\n",
       "  <tbody>\n",
       "    <tr>\n",
       "      <th>0</th>\n",
       "      <td>jk6WQA2qSx3az+A3sZwCtQDDP/Lsw6kd0UdQ4gjbyOY=</td>\n",
       "      <td>1</td>\n",
       "      <td>0</td>\n",
       "      <td>NaN</td>\n",
       "      <td>4</td>\n",
       "      <td>2016-12-24</td>\n",
       "    </tr>\n",
       "    <tr>\n",
       "      <th>1</th>\n",
       "      <td>eRZ8pH3tR5Ss9rn5dkJpOs4q07b72+pjOfuiVwHsEyw=</td>\n",
       "      <td>3</td>\n",
       "      <td>28</td>\n",
       "      <td>male</td>\n",
       "      <td>9</td>\n",
       "      <td>2006-09-23</td>\n",
       "    </tr>\n",
       "    <tr>\n",
       "      <th>2</th>\n",
       "      <td>uj8Fs7lyFg8c1iOGV1eFSlBcV7Y1FziPQS62GLh23J0=</td>\n",
       "      <td>15</td>\n",
       "      <td>33</td>\n",
       "      <td>male</td>\n",
       "      <td>9</td>\n",
       "      <td>2009-03-07</td>\n",
       "    </tr>\n",
       "    <tr>\n",
       "      <th>3</th>\n",
       "      <td>Kv9V2xGzAZyOUlD0dudmj3bgYamLuPKlJ2hieIEhOo8=</td>\n",
       "      <td>11</td>\n",
       "      <td>23</td>\n",
       "      <td>female</td>\n",
       "      <td>9</td>\n",
       "      <td>2007-06-17</td>\n",
       "    </tr>\n",
       "    <tr>\n",
       "      <th>4</th>\n",
       "      <td>IUQ6diSNvqj+YMwRwiZ7tGv83H61pKz+pEn6p2U0jAI=</td>\n",
       "      <td>15</td>\n",
       "      <td>50</td>\n",
       "      <td>female</td>\n",
       "      <td>9</td>\n",
       "      <td>2011-01-11</td>\n",
       "    </tr>\n",
       "  </tbody>\n",
       "</table>\n",
       "</div>"
      ],
      "text/plain": [
       "                                           msno  city  bd  gender  \\\n",
       "0  jk6WQA2qSx3az+A3sZwCtQDDP/Lsw6kd0UdQ4gjbyOY=     1   0     NaN   \n",
       "1  eRZ8pH3tR5Ss9rn5dkJpOs4q07b72+pjOfuiVwHsEyw=     3  28    male   \n",
       "2  uj8Fs7lyFg8c1iOGV1eFSlBcV7Y1FziPQS62GLh23J0=    15  33    male   \n",
       "3  Kv9V2xGzAZyOUlD0dudmj3bgYamLuPKlJ2hieIEhOo8=    11  23  female   \n",
       "4  IUQ6diSNvqj+YMwRwiZ7tGv83H61pKz+pEn6p2U0jAI=    15  50  female   \n",
       "\n",
       "   registered_via registration_init_time  \n",
       "0               4             2016-12-24  \n",
       "1               9             2006-09-23  \n",
       "2               9             2009-03-07  \n",
       "3               9             2007-06-17  \n",
       "4               9             2011-01-11  "
      ]
     },
     "execution_count": 38,
     "metadata": {},
     "output_type": "execute_result"
    },
    {
     "data": {
      "text/html": [
       "<div>\n",
       "<style scoped>\n",
       "    .dataframe tbody tr th:only-of-type {\n",
       "        vertical-align: middle;\n",
       "    }\n",
       "\n",
       "    .dataframe tbody tr th {\n",
       "        vertical-align: top;\n",
       "    }\n",
       "\n",
       "    .dataframe thead th {\n",
       "        text-align: right;\n",
       "    }\n",
       "</style>\n",
       "<table border=\"1\" class=\"dataframe\">\n",
       "  <thead>\n",
       "    <tr style=\"text-align: right;\">\n",
       "      <th></th>\n",
       "      <th>msno</th>\n",
       "      <th>payment_method_id</th>\n",
       "      <th>payment_plan_days</th>\n",
       "      <th>plan_list_price</th>\n",
       "      <th>actual_amount_paid</th>\n",
       "      <th>is_auto_renew</th>\n",
       "      <th>transaction_date</th>\n",
       "      <th>membership_expire_date</th>\n",
       "      <th>is_cancel</th>\n",
       "    </tr>\n",
       "  </thead>\n",
       "  <tbody>\n",
       "  </tbody>\n",
       "</table>\n",
       "</div>"
      ],
      "text/plain": [
       "Empty DataFrame\n",
       "Columns: [msno, payment_method_id, payment_plan_days, plan_list_price, actual_amount_paid, is_auto_renew, transaction_date, membership_expire_date, is_cancel]\n",
       "Index: []"
      ]
     },
     "execution_count": 38,
     "metadata": {},
     "output_type": "execute_result"
    },
    {
     "data": {
      "text/html": [
       "<div>\n",
       "<style scoped>\n",
       "    .dataframe tbody tr th:only-of-type {\n",
       "        vertical-align: middle;\n",
       "    }\n",
       "\n",
       "    .dataframe tbody tr th {\n",
       "        vertical-align: top;\n",
       "    }\n",
       "\n",
       "    .dataframe thead th {\n",
       "        text-align: right;\n",
       "    }\n",
       "</style>\n",
       "<table border=\"1\" class=\"dataframe\">\n",
       "  <thead>\n",
       "    <tr style=\"text-align: right;\">\n",
       "      <th></th>\n",
       "      <th>msno</th>\n",
       "      <th>date</th>\n",
       "      <th>num_25</th>\n",
       "      <th>num_50</th>\n",
       "      <th>num_75</th>\n",
       "      <th>num_985</th>\n",
       "      <th>num_100</th>\n",
       "      <th>num_unq</th>\n",
       "      <th>total_secs</th>\n",
       "    </tr>\n",
       "  </thead>\n",
       "  <tbody>\n",
       "  </tbody>\n",
       "</table>\n",
       "</div>"
      ],
      "text/plain": [
       "Empty DataFrame\n",
       "Columns: [msno, date, num_25, num_50, num_75, num_985, num_100, num_unq, total_secs]\n",
       "Index: []"
      ]
     },
     "execution_count": 38,
     "metadata": {},
     "output_type": "execute_result"
    },
    {
     "data": {
      "text/html": [
       "<div>\n",
       "<style scoped>\n",
       "    .dataframe tbody tr th:only-of-type {\n",
       "        vertical-align: middle;\n",
       "    }\n",
       "\n",
       "    .dataframe tbody tr th {\n",
       "        vertical-align: top;\n",
       "    }\n",
       "\n",
       "    .dataframe thead th {\n",
       "        text-align: right;\n",
       "    }\n",
       "</style>\n",
       "<table border=\"1\" class=\"dataframe\">\n",
       "  <thead>\n",
       "    <tr style=\"text-align: right;\">\n",
       "      <th></th>\n",
       "      <th>msno</th>\n",
       "      <th>is_churn</th>\n",
       "    </tr>\n",
       "  </thead>\n",
       "  <tbody>\n",
       "  </tbody>\n",
       "</table>\n",
       "</div>"
      ],
      "text/plain": [
       "Empty DataFrame\n",
       "Columns: [msno, is_churn]\n",
       "Index: []"
      ]
     },
     "execution_count": 38,
     "metadata": {},
     "output_type": "execute_result"
    },
    {
     "data": {
      "text/html": [
       "<div>\n",
       "<style scoped>\n",
       "    .dataframe tbody tr th:only-of-type {\n",
       "        vertical-align: middle;\n",
       "    }\n",
       "\n",
       "    .dataframe tbody tr th {\n",
       "        vertical-align: top;\n",
       "    }\n",
       "\n",
       "    .dataframe thead th {\n",
       "        text-align: right;\n",
       "    }\n",
       "</style>\n",
       "<table border=\"1\" class=\"dataframe\">\n",
       "  <thead>\n",
       "    <tr style=\"text-align: right;\">\n",
       "      <th></th>\n",
       "      <th>msno</th>\n",
       "      <th>is_churn</th>\n",
       "    </tr>\n",
       "  </thead>\n",
       "  <tbody>\n",
       "  </tbody>\n",
       "</table>\n",
       "</div>"
      ],
      "text/plain": [
       "Empty DataFrame\n",
       "Columns: [msno, is_churn]\n",
       "Index: []"
      ]
     },
     "execution_count": 38,
     "metadata": {},
     "output_type": "execute_result"
    }
   ],
   "source": [
    "members.head()\n",
    "trans.head()\n",
    "logs.head()\n",
    "train.head()\n",
    "test.head()"
   ]
  },
  {
   "cell_type": "markdown",
   "metadata": {},
   "source": [
    "## How Many Unique Members are There? \n",
    "\n",
    "Who do we need to find data for? The best choice is probably only the customers in the transactions dataframe since we can make labels for them. \n",
    "\n",
    "The defintion of a label will be: within 30 days of cancelling, does a customer resubscribe? Given this definition, we can write a function to generate labels."
   ]
  },
  {
   "cell_type": "code",
   "execution_count": 21,
   "metadata": {},
   "outputs": [
    {
     "data": {
      "text/plain": [
       "msno\n",
       "+/w1UrZwyka4C9oNH3+Q8fUf3fD8R3EwWrx57ODIsqk=    2\n",
       "+2rgJpEKJWYFwVkHKnSzQUnieMwfLMrHiJzCxK9AhGo=    2\n",
       "+3KltBa/1dUuXwOzDKksw11Nwdwf7/pXv47sDv4mInY=    2\n",
       "+4lC2x3ltrVTmmT3CgS+vuFD/1yzi97C6icTr7hFuRY=    2\n",
       "+6KgKovFigr5lk3+G8srZUoUHhPS8a+rTa/N2Vg1wsg=    2\n",
       "Name: is_churn, dtype: int64"
      ]
     },
     "execution_count": 21,
     "metadata": {},
     "output_type": "execute_result"
    }
   ],
   "source": [
    "train.groupby('msno')['is_churn'].nunique().head()"
   ]
  },
  {
   "cell_type": "code",
   "execution_count": 15,
   "metadata": {},
   "outputs": [
    {
     "data": {
      "text/html": [
       "<div>\n",
       "<style scoped>\n",
       "    .dataframe tbody tr th:only-of-type {\n",
       "        vertical-align: middle;\n",
       "    }\n",
       "\n",
       "    .dataframe tbody tr th {\n",
       "        vertical-align: top;\n",
       "    }\n",
       "\n",
       "    .dataframe thead th {\n",
       "        text-align: right;\n",
       "    }\n",
       "</style>\n",
       "<table border=\"1\" class=\"dataframe\">\n",
       "  <thead>\n",
       "    <tr style=\"text-align: right;\">\n",
       "      <th></th>\n",
       "      <th>payment_method_id</th>\n",
       "      <th>payment_plan_days</th>\n",
       "      <th>plan_list_price</th>\n",
       "      <th>actual_amount_paid</th>\n",
       "      <th>is_auto_renew</th>\n",
       "      <th>transaction_date</th>\n",
       "      <th>membership_expire_date</th>\n",
       "      <th>is_cancel</th>\n",
       "    </tr>\n",
       "    <tr>\n",
       "      <th>msno</th>\n",
       "      <th></th>\n",
       "      <th></th>\n",
       "      <th></th>\n",
       "      <th></th>\n",
       "      <th></th>\n",
       "      <th></th>\n",
       "      <th></th>\n",
       "      <th></th>\n",
       "    </tr>\n",
       "  </thead>\n",
       "  <tbody>\n",
       "    <tr>\n",
       "      <th>prvwhLDR5WjSgche9r0XTDuF2lbr9KpPKyqBPAAUwio=</th>\n",
       "      <td>41</td>\n",
       "      <td>41</td>\n",
       "      <td>41</td>\n",
       "      <td>41</td>\n",
       "      <td>41</td>\n",
       "      <td>41</td>\n",
       "      <td>41</td>\n",
       "      <td>41</td>\n",
       "    </tr>\n",
       "    <tr>\n",
       "      <th>8O9UXcStlZzME2YTyJDJf4m4WnfBV1FNOOBI1hoeueE=</th>\n",
       "      <td>42</td>\n",
       "      <td>42</td>\n",
       "      <td>42</td>\n",
       "      <td>42</td>\n",
       "      <td>42</td>\n",
       "      <td>42</td>\n",
       "      <td>42</td>\n",
       "      <td>42</td>\n",
       "    </tr>\n",
       "    <tr>\n",
       "      <th>AKZNktiVbiDxV6Un0C84th9hKQPn/NwGXNffbVbR9Ps=</th>\n",
       "      <td>42</td>\n",
       "      <td>42</td>\n",
       "      <td>42</td>\n",
       "      <td>42</td>\n",
       "      <td>42</td>\n",
       "      <td>42</td>\n",
       "      <td>42</td>\n",
       "      <td>42</td>\n",
       "    </tr>\n",
       "    <tr>\n",
       "      <th>zwhR3q2j/NM4e56g3ekekoyx/8s0Ghomij/3/BsSBWs=</th>\n",
       "      <td>44</td>\n",
       "      <td>44</td>\n",
       "      <td>44</td>\n",
       "      <td>44</td>\n",
       "      <td>44</td>\n",
       "      <td>44</td>\n",
       "      <td>44</td>\n",
       "      <td>44</td>\n",
       "    </tr>\n",
       "    <tr>\n",
       "      <th>fItJlEs671EQOapBdqMZ/9zJe0/Mzzt6A5wCp4Iu/wA=</th>\n",
       "      <td>54</td>\n",
       "      <td>54</td>\n",
       "      <td>54</td>\n",
       "      <td>54</td>\n",
       "      <td>54</td>\n",
       "      <td>54</td>\n",
       "      <td>54</td>\n",
       "      <td>54</td>\n",
       "    </tr>\n",
       "  </tbody>\n",
       "</table>\n",
       "</div>"
      ],
      "text/plain": [
       "                                              payment_method_id  \\\n",
       "msno                                                              \n",
       "prvwhLDR5WjSgche9r0XTDuF2lbr9KpPKyqBPAAUwio=                 41   \n",
       "8O9UXcStlZzME2YTyJDJf4m4WnfBV1FNOOBI1hoeueE=                 42   \n",
       "AKZNktiVbiDxV6Un0C84th9hKQPn/NwGXNffbVbR9Ps=                 42   \n",
       "zwhR3q2j/NM4e56g3ekekoyx/8s0Ghomij/3/BsSBWs=                 44   \n",
       "fItJlEs671EQOapBdqMZ/9zJe0/Mzzt6A5wCp4Iu/wA=                 54   \n",
       "\n",
       "                                              payment_plan_days  \\\n",
       "msno                                                              \n",
       "prvwhLDR5WjSgche9r0XTDuF2lbr9KpPKyqBPAAUwio=                 41   \n",
       "8O9UXcStlZzME2YTyJDJf4m4WnfBV1FNOOBI1hoeueE=                 42   \n",
       "AKZNktiVbiDxV6Un0C84th9hKQPn/NwGXNffbVbR9Ps=                 42   \n",
       "zwhR3q2j/NM4e56g3ekekoyx/8s0Ghomij/3/BsSBWs=                 44   \n",
       "fItJlEs671EQOapBdqMZ/9zJe0/Mzzt6A5wCp4Iu/wA=                 54   \n",
       "\n",
       "                                              plan_list_price  \\\n",
       "msno                                                            \n",
       "prvwhLDR5WjSgche9r0XTDuF2lbr9KpPKyqBPAAUwio=               41   \n",
       "8O9UXcStlZzME2YTyJDJf4m4WnfBV1FNOOBI1hoeueE=               42   \n",
       "AKZNktiVbiDxV6Un0C84th9hKQPn/NwGXNffbVbR9Ps=               42   \n",
       "zwhR3q2j/NM4e56g3ekekoyx/8s0Ghomij/3/BsSBWs=               44   \n",
       "fItJlEs671EQOapBdqMZ/9zJe0/Mzzt6A5wCp4Iu/wA=               54   \n",
       "\n",
       "                                              actual_amount_paid  \\\n",
       "msno                                                               \n",
       "prvwhLDR5WjSgche9r0XTDuF2lbr9KpPKyqBPAAUwio=                  41   \n",
       "8O9UXcStlZzME2YTyJDJf4m4WnfBV1FNOOBI1hoeueE=                  42   \n",
       "AKZNktiVbiDxV6Un0C84th9hKQPn/NwGXNffbVbR9Ps=                  42   \n",
       "zwhR3q2j/NM4e56g3ekekoyx/8s0Ghomij/3/BsSBWs=                  44   \n",
       "fItJlEs671EQOapBdqMZ/9zJe0/Mzzt6A5wCp4Iu/wA=                  54   \n",
       "\n",
       "                                              is_auto_renew  transaction_date  \\\n",
       "msno                                                                            \n",
       "prvwhLDR5WjSgche9r0XTDuF2lbr9KpPKyqBPAAUwio=             41                41   \n",
       "8O9UXcStlZzME2YTyJDJf4m4WnfBV1FNOOBI1hoeueE=             42                42   \n",
       "AKZNktiVbiDxV6Un0C84th9hKQPn/NwGXNffbVbR9Ps=             42                42   \n",
       "zwhR3q2j/NM4e56g3ekekoyx/8s0Ghomij/3/BsSBWs=             44                44   \n",
       "fItJlEs671EQOapBdqMZ/9zJe0/Mzzt6A5wCp4Iu/wA=             54                54   \n",
       "\n",
       "                                              membership_expire_date  \\\n",
       "msno                                                                   \n",
       "prvwhLDR5WjSgche9r0XTDuF2lbr9KpPKyqBPAAUwio=                      41   \n",
       "8O9UXcStlZzME2YTyJDJf4m4WnfBV1FNOOBI1hoeueE=                      42   \n",
       "AKZNktiVbiDxV6Un0C84th9hKQPn/NwGXNffbVbR9Ps=                      42   \n",
       "zwhR3q2j/NM4e56g3ekekoyx/8s0Ghomij/3/BsSBWs=                      44   \n",
       "fItJlEs671EQOapBdqMZ/9zJe0/Mzzt6A5wCp4Iu/wA=                      54   \n",
       "\n",
       "                                              is_cancel  \n",
       "msno                                                     \n",
       "prvwhLDR5WjSgche9r0XTDuF2lbr9KpPKyqBPAAUwio=         41  \n",
       "8O9UXcStlZzME2YTyJDJf4m4WnfBV1FNOOBI1hoeueE=         42  \n",
       "AKZNktiVbiDxV6Un0C84th9hKQPn/NwGXNffbVbR9Ps=         42  \n",
       "zwhR3q2j/NM4e56g3ekekoyx/8s0Ghomij/3/BsSBWs=         44  \n",
       "fItJlEs671EQOapBdqMZ/9zJe0/Mzzt6A5wCp4Iu/wA=         54  "
      ]
     },
     "execution_count": 15,
     "metadata": {},
     "output_type": "execute_result"
    }
   ],
   "source": [
    "trans.groupby('msno').count().sort_values('plan_list_price').tail()"
   ]
  },
  {
   "cell_type": "code",
   "execution_count": 24,
   "metadata": {},
   "outputs": [
    {
     "data": {
      "text/html": [
       "<div>\n",
       "<style scoped>\n",
       "    .dataframe tbody tr th:only-of-type {\n",
       "        vertical-align: middle;\n",
       "    }\n",
       "\n",
       "    .dataframe tbody tr th {\n",
       "        vertical-align: top;\n",
       "    }\n",
       "\n",
       "    .dataframe thead th {\n",
       "        text-align: right;\n",
       "    }\n",
       "</style>\n",
       "<table border=\"1\" class=\"dataframe\">\n",
       "  <thead>\n",
       "    <tr style=\"text-align: right;\">\n",
       "      <th></th>\n",
       "      <th>msno</th>\n",
       "      <th>payment_method_id</th>\n",
       "      <th>payment_plan_days</th>\n",
       "      <th>plan_list_price</th>\n",
       "      <th>actual_amount_paid</th>\n",
       "      <th>is_auto_renew</th>\n",
       "      <th>transaction_date</th>\n",
       "      <th>membership_expire_date</th>\n",
       "      <th>is_cancel</th>\n",
       "    </tr>\n",
       "  </thead>\n",
       "  <tbody>\n",
       "    <tr>\n",
       "      <th>23433</th>\n",
       "      <td>fItJlEs671EQOapBdqMZ/9zJe0/Mzzt6A5wCp4Iu/wA=</td>\n",
       "      <td>41</td>\n",
       "      <td>30</td>\n",
       "      <td>149</td>\n",
       "      <td>149</td>\n",
       "      <td>1</td>\n",
       "      <td>2015-01-08</td>\n",
       "      <td>2016-08-10</td>\n",
       "      <td>0</td>\n",
       "    </tr>\n",
       "    <tr>\n",
       "      <th>537</th>\n",
       "      <td>fItJlEs671EQOapBdqMZ/9zJe0/Mzzt6A5wCp4Iu/wA=</td>\n",
       "      <td>41</td>\n",
       "      <td>30</td>\n",
       "      <td>149</td>\n",
       "      <td>119</td>\n",
       "      <td>1</td>\n",
       "      <td>2015-01-08</td>\n",
       "      <td>2016-09-10</td>\n",
       "      <td>0</td>\n",
       "    </tr>\n",
       "    <tr>\n",
       "      <th>23080</th>\n",
       "      <td>fItJlEs671EQOapBdqMZ/9zJe0/Mzzt6A5wCp4Iu/wA=</td>\n",
       "      <td>41</td>\n",
       "      <td>30</td>\n",
       "      <td>149</td>\n",
       "      <td>149</td>\n",
       "      <td>1</td>\n",
       "      <td>2015-01-11</td>\n",
       "      <td>2016-10-11</td>\n",
       "      <td>0</td>\n",
       "    </tr>\n",
       "    <tr>\n",
       "      <th>8397</th>\n",
       "      <td>fItJlEs671EQOapBdqMZ/9zJe0/Mzzt6A5wCp4Iu/wA=</td>\n",
       "      <td>41</td>\n",
       "      <td>30</td>\n",
       "      <td>149</td>\n",
       "      <td>149</td>\n",
       "      <td>1</td>\n",
       "      <td>2015-02-08</td>\n",
       "      <td>2016-11-08</td>\n",
       "      <td>0</td>\n",
       "    </tr>\n",
       "    <tr>\n",
       "      <th>10817</th>\n",
       "      <td>fItJlEs671EQOapBdqMZ/9zJe0/Mzzt6A5wCp4Iu/wA=</td>\n",
       "      <td>41</td>\n",
       "      <td>30</td>\n",
       "      <td>149</td>\n",
       "      <td>119</td>\n",
       "      <td>1</td>\n",
       "      <td>2015-02-08</td>\n",
       "      <td>2016-12-06</td>\n",
       "      <td>0</td>\n",
       "    </tr>\n",
       "    <tr>\n",
       "      <th>7868</th>\n",
       "      <td>fItJlEs671EQOapBdqMZ/9zJe0/Mzzt6A5wCp4Iu/wA=</td>\n",
       "      <td>41</td>\n",
       "      <td>30</td>\n",
       "      <td>149</td>\n",
       "      <td>149</td>\n",
       "      <td>1</td>\n",
       "      <td>2015-02-11</td>\n",
       "      <td>2017-01-03</td>\n",
       "      <td>0</td>\n",
       "    </tr>\n",
       "    <tr>\n",
       "      <th>11836</th>\n",
       "      <td>fItJlEs671EQOapBdqMZ/9zJe0/Mzzt6A5wCp4Iu/wA=</td>\n",
       "      <td>41</td>\n",
       "      <td>30</td>\n",
       "      <td>149</td>\n",
       "      <td>149</td>\n",
       "      <td>1</td>\n",
       "      <td>2015-03-08</td>\n",
       "      <td>2017-02-03</td>\n",
       "      <td>0</td>\n",
       "    </tr>\n",
       "    <tr>\n",
       "      <th>24714</th>\n",
       "      <td>fItJlEs671EQOapBdqMZ/9zJe0/Mzzt6A5wCp4Iu/wA=</td>\n",
       "      <td>41</td>\n",
       "      <td>30</td>\n",
       "      <td>149</td>\n",
       "      <td>119</td>\n",
       "      <td>1</td>\n",
       "      <td>2015-03-08</td>\n",
       "      <td>2017-03-06</td>\n",
       "      <td>0</td>\n",
       "    </tr>\n",
       "    <tr>\n",
       "      <th>27308</th>\n",
       "      <td>fItJlEs671EQOapBdqMZ/9zJe0/Mzzt6A5wCp4Iu/wA=</td>\n",
       "      <td>41</td>\n",
       "      <td>30</td>\n",
       "      <td>149</td>\n",
       "      <td>149</td>\n",
       "      <td>1</td>\n",
       "      <td>2015-03-11</td>\n",
       "      <td>2017-04-06</td>\n",
       "      <td>0</td>\n",
       "    </tr>\n",
       "    <tr>\n",
       "      <th>26136</th>\n",
       "      <td>fItJlEs671EQOapBdqMZ/9zJe0/Mzzt6A5wCp4Iu/wA=</td>\n",
       "      <td>41</td>\n",
       "      <td>30</td>\n",
       "      <td>149</td>\n",
       "      <td>149</td>\n",
       "      <td>1</td>\n",
       "      <td>2015-04-08</td>\n",
       "      <td>2017-05-06</td>\n",
       "      <td>0</td>\n",
       "    </tr>\n",
       "  </tbody>\n",
       "</table>\n",
       "</div>"
      ],
      "text/plain": [
       "                                               msno  payment_method_id  \\\n",
       "23433  fItJlEs671EQOapBdqMZ/9zJe0/Mzzt6A5wCp4Iu/wA=                 41   \n",
       "537    fItJlEs671EQOapBdqMZ/9zJe0/Mzzt6A5wCp4Iu/wA=                 41   \n",
       "23080  fItJlEs671EQOapBdqMZ/9zJe0/Mzzt6A5wCp4Iu/wA=                 41   \n",
       "8397   fItJlEs671EQOapBdqMZ/9zJe0/Mzzt6A5wCp4Iu/wA=                 41   \n",
       "10817  fItJlEs671EQOapBdqMZ/9zJe0/Mzzt6A5wCp4Iu/wA=                 41   \n",
       "7868   fItJlEs671EQOapBdqMZ/9zJe0/Mzzt6A5wCp4Iu/wA=                 41   \n",
       "11836  fItJlEs671EQOapBdqMZ/9zJe0/Mzzt6A5wCp4Iu/wA=                 41   \n",
       "24714  fItJlEs671EQOapBdqMZ/9zJe0/Mzzt6A5wCp4Iu/wA=                 41   \n",
       "27308  fItJlEs671EQOapBdqMZ/9zJe0/Mzzt6A5wCp4Iu/wA=                 41   \n",
       "26136  fItJlEs671EQOapBdqMZ/9zJe0/Mzzt6A5wCp4Iu/wA=                 41   \n",
       "\n",
       "       payment_plan_days  plan_list_price  actual_amount_paid  is_auto_renew  \\\n",
       "23433                 30              149                 149              1   \n",
       "537                   30              149                 119              1   \n",
       "23080                 30              149                 149              1   \n",
       "8397                  30              149                 149              1   \n",
       "10817                 30              149                 119              1   \n",
       "7868                  30              149                 149              1   \n",
       "11836                 30              149                 149              1   \n",
       "24714                 30              149                 119              1   \n",
       "27308                 30              149                 149              1   \n",
       "26136                 30              149                 149              1   \n",
       "\n",
       "      transaction_date membership_expire_date  is_cancel  \n",
       "23433       2015-01-08             2016-08-10          0  \n",
       "537         2015-01-08             2016-09-10          0  \n",
       "23080       2015-01-11             2016-10-11          0  \n",
       "8397        2015-02-08             2016-11-08          0  \n",
       "10817       2015-02-08             2016-12-06          0  \n",
       "7868        2015-02-11             2017-01-03          0  \n",
       "11836       2015-03-08             2017-02-03          0  \n",
       "24714       2015-03-08             2017-03-06          0  \n",
       "27308       2015-03-11             2017-04-06          0  \n",
       "26136       2015-04-08             2017-05-06          0  "
      ]
     },
     "execution_count": 24,
     "metadata": {},
     "output_type": "execute_result"
    }
   ],
   "source": [
    "ex = trans[trans['msno'] == 'fItJlEs671EQOapBdqMZ/9zJe0/Mzzt6A5wCp4Iu/wA='].copy().\\\n",
    "     sort_values(['transaction_date', 'membership_expire_date'])\n",
    "ex.head(10)"
   ]
  },
  {
   "cell_type": "code",
   "execution_count": 25,
   "metadata": {},
   "outputs": [
    {
     "data": {
      "text/plain": [
       "1692   2013-10-09\n",
       "Name: registration_init_time, dtype: datetime64[ns]"
      ]
     },
     "execution_count": 25,
     "metadata": {},
     "output_type": "execute_result"
    }
   ],
   "source": [
    "ex_start = members.loc[members['msno'] == 'fItJlEs671EQOapBdqMZ/9zJe0/Mzzt6A5wCp4Iu/wA=', 'registration_init_time']\n",
    "ex_start"
   ]
  },
  {
   "cell_type": "code",
   "execution_count": 26,
   "metadata": {},
   "outputs": [
    {
     "data": {
      "text/plain": [
       "51"
      ]
     },
     "execution_count": 26,
     "metadata": {},
     "output_type": "execute_result"
    }
   ],
   "source": [
    "months = pd.date_range(pd.datetime(ex_start.dt.year, ex_start.dt.month, 1),\n",
    "                       pd.datetime(2018, 1, 1), freq = 'M')\n",
    "len(months)"
   ]
  },
  {
   "cell_type": "code",
   "execution_count": 27,
   "metadata": {},
   "outputs": [
    {
     "data": {
      "text/plain": [
       "Timestamp('2013-11-30 00:00:00', freq='M')"
      ]
     },
     "execution_count": 27,
     "metadata": {},
     "output_type": "execute_result"
    }
   ],
   "source": [
    "months[1]"
   ]
  },
  {
   "cell_type": "code",
   "execution_count": 30,
   "metadata": {},
   "outputs": [],
   "source": [
    "statuses = []\n",
    "is_subscribed = True\n",
    "\n",
    "for month in months:\n",
    "    if month < (ex['transaction_date'].min() - pd.Timedelta(30, 'D')):\n",
    "        statuses.append(np.nan)\n",
    "    else:\n",
    "        status = 0 \n",
    "        subset = ex.loc[(ex['transaction_date'].dt.year == month.year) & (ex['transaction_date'].dt.month == month.month)].copy()\n",
    "        \n",
    "        if any(subset['is_cancel'] == 1):\n",
    "            is_subscribed = 0\n",
    "                "
   ]
  },
  {
   "cell_type": "code",
   "execution_count": null,
   "metadata": {},
   "outputs": [],
   "source": []
  }
 ],
 "metadata": {
  "kernelspec": {
   "display_name": "Environment (conda_python3)",
   "language": "python",
   "name": "conda_python3"
  },
  "language_info": {
   "codemirror_mode": {
    "name": "ipython",
    "version": 3
   },
   "file_extension": ".py",
   "mimetype": "text/x-python",
   "name": "python",
   "nbconvert_exporter": "python",
   "pygments_lexer": "ipython3",
   "version": "3.6.6"
  }
 },
 "nbformat": 4,
 "nbformat_minor": 2
}
