{
 "cells": [
  {
   "cell_type": "code",
   "execution_count": 1,
   "metadata": {},
   "outputs": [],
   "source": [
    "import pandas as pd\n",
    "import numpy as np"
   ]
  },
  {
   "cell_type": "code",
   "execution_count": 2,
   "metadata": {},
   "outputs": [
    {
     "data": {
      "text/plain": [
       "[PosixPath('/data/churn/train_v2.csv'),\n",
       " PosixPath('/data/churn/user_logs_v2.csv'),\n",
       " PosixPath('/data/churn/transactions.csv'),\n",
       " PosixPath('/data/churn/WSDMChurnLabeller.scala'),\n",
       " PosixPath('/data/churn/user_logs.csv'),\n",
       " PosixPath('/data/churn/transactions_v2.csv'),\n",
       " PosixPath('/data/churn/members_v3.csv'),\n",
       " PosixPath('/data/churn/train.csv'),\n",
       " PosixPath('/data/churn/sample_submission_v2.csv'),\n",
       " PosixPath('/data/churn/sample_submission_zero.csv')]"
      ]
     },
     "execution_count": 2,
     "metadata": {},
     "output_type": "execute_result"
    }
   ],
   "source": [
    "from pathlib import Path\n",
    "\n",
    "PATH = Path('/data/churn/')\n",
    "list(PATH.iterdir())"
   ]
  },
  {
   "cell_type": "code",
   "execution_count": null,
   "metadata": {},
   "outputs": [],
   "source": []
  }
 ],
 "metadata": {
  "kernelspec": {
   "display_name": "Python 3",
   "language": "python",
   "name": "python3"
  },
  "language_info": {
   "codemirror_mode": {
    "name": "ipython",
    "version": 3
   },
   "file_extension": ".py",
   "mimetype": "text/x-python",
   "name": "python",
   "nbconvert_exporter": "python",
   "pygments_lexer": "ipython3",
   "version": "3.6.4"
  }
 },
 "nbformat": 4,
 "nbformat_minor": 2
}
